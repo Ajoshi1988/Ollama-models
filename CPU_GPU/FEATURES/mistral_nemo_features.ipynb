{
 "cells": [
  {
   "cell_type": "code",
   "execution_count": 1,
   "id": "fcd46990-96c4-4b39-9843-21bf3e3ef7e2",
   "metadata": {},
   "outputs": [],
   "source": [
    "from langchain_core.tools import tool\n",
    "from langgraph.prebuilt import ToolNode\n",
    "from langchain_openai import ChatOpenAI\n",
    "from langchain_core.messages import HumanMessage\n",
    "from langgraph.graph import END, MessageGraph\n",
    "import os\n",
    "import sqlite3\n",
    "from datetime import date, datetime\n",
    "from typing import Optional, Dict, List, Any\n",
    "\n",
    "import pytz\n",
    "from langchain_core.runnables import RunnableConfig\n",
    "from langchain.prompts import PromptTemplate\n",
    "from langchain.chains import LLMChain\n",
    "from langchain.llms import OpenAI\n",
    "\n",
    "import pandas as pd\n",
    "import ollama\n",
    "import time\n",
    "import os\n",
    "import json\n",
    "import numpy as np\n",
    "from numpy.linalg import norm\n",
    "import time\n",
    "from langchain_core.prompts import ChatPromptTemplate\n",
    "from langchain_ollama.llms import OllamaLLM\n",
    "import time"
   ]
  },
  {
   "cell_type": "code",
   "execution_count": 2,
   "id": "56c4ca58-83e6-4ee6-b182-9eb17f7bfadd",
   "metadata": {},
   "outputs": [
    {
     "name": "stderr",
     "output_type": "stream",
     "text": [
      "/tmp/ipykernel_30792/652372234.py:15: LangChainDeprecationWarning: The class `LLMChain` was deprecated in LangChain 0.1.17 and will be removed in 1.0. Use :meth:`~RunnableSequence, e.g., `prompt | llm`` instead.\n",
      "  llm_chain = LLMChain(llm=llm, prompt=prompt_template)\n",
      "/tmp/ipykernel_30792/652372234.py:16: LangChainDeprecationWarning: The method `Chain.run` was deprecated in langchain 0.1.0 and will be removed in 1.0. Use :meth:`~invoke` instead.\n",
      "  raw_response = llm_chain.run(query)\n"
     ]
    },
    {
     "name": "stdout",
     "output_type": "stream",
     "text": [
      "Entities in the given query:\n",
      "\n",
      "1. **Me (Aditya)** - First-person pronoun, refers to the speaker/writer.\n",
      "2. **Aditya** - Proper noun, the speaker's name.\n",
      "3. **Bangalore** - Geographical entity, a city in India where Aditya resides.\n",
      "4. **Microsoft** - Organization, the company where Aditya works.\n",
      "5. **Apples** - Common noun, a fruit that Aditya likes.\n",
      "6. **Data Science** - Concept/Field of study, which Aditya is interested in.\n",
      "\n",
      "In summary:\n",
      "- Personal entity: Aditya\n",
      "- Location: Bangalore\n",
      "- Organization: Microsoft\n",
      "- Food item: Apples\n",
      "- Field of interest: Data Science\n",
      "\n",
      "\n",
      "Execution Time 6.020993947982788 \n"
     ]
    }
   ],
   "source": [
    "def bot_answer(query: str):\n",
    "\n",
    "   \n",
    "    start_time=time.time()\n",
    "    prompt_template = PromptTemplate(\n",
    "\n",
    "        input_variables=[\"query\"],\n",
    "         template=\"\"\"List all the entities in the query and also mention what they are\n",
    "          Query: {query}\n",
    "                \"\"\"\n",
    "         )\n",
    "           \n",
    "\n",
    "    llm = OllamaLLM(model=\"mistral-nemo:latest\")\n",
    "    llm_chain = LLMChain(llm=llm, prompt=prompt_template)\n",
    "    raw_response = llm_chain.run(query)\n",
    "    end_time=time.time()\n",
    "    print(raw_response)\n",
    "    print(\"\\n\")\n",
    "    print(f\"Execution Time {end_time-start_time} \")\n",
    "    return None\n",
    "\n",
    "\n",
    "query=\"Me Aditya from Bangalore is working in Microsoft, I like apples and I am interested in Data Science\"\n",
    "bot_answer(query)"
   ]
  },
  {
   "cell_type": "code",
   "execution_count": 3,
   "id": "4cc181f9-d11a-42dc-82aa-56490f7e6b55",
   "metadata": {},
   "outputs": [
    {
     "name": "stdout",
     "output_type": "stream",
     "text": [
      "Entities in the query:\n",
      "\n",
      "1. **Trump**: A person, specifically former President of the United States.\n",
      "2. **Modi**: A person, currently serving as the Prime Minister of India (Narendra Modi).\n",
      "3. **Biden**: A person, current President of the United States.\n",
      "4. **India**: A country.\n",
      "5. **Russia**: A country.\n",
      "6. **USA** or **US**: An abbreviation for the United States of America.\n",
      "\n",
      "These entities are mentioned in relation to political leadership and international relations. The query expresses personal opinions about these leaders' impact on specific countries and their relations, but it does not contain facts that can be verified.\n",
      "\n",
      "\n",
      "Execution Time 5.235114812850952 \n"
     ]
    }
   ],
   "source": [
    "#Entity recognition\n",
    "query=\"Trump and Modi have a very understanding, unfortunately Biden is a big problem to India, Russia and USA. India needs Modi and US needs Trump\"\n",
    "bot_answer(query)"
   ]
  },
  {
   "cell_type": "code",
   "execution_count": 4,
   "id": "d78281e7-7b8b-472c-a5ac-c82f4a9bb989",
   "metadata": {},
   "outputs": [
    {
     "name": "stdout",
     "output_type": "stream",
     "text": [
      "Entities in the query:\n",
      "\n",
      "1. **Propellers**\n",
      "   - Type: Noun\n",
      "   - Role: Subject of the sentence\n",
      "\n",
      "2. **are**\n",
      "   - Type: Verb (linking verb)\n",
      "   - Role: Connects the subject to its predicate\n",
      "\n",
      "3. **important**\n",
      "   - Type: Adjective\n",
      "   - Role: Describes the state of the subject \"Propellers\"\n",
      "\n",
      "4. **part** (of PSLV)\n",
      "   - Type: Noun, used as a prepositional phrase\n",
      "   - Role: Further describes the importance of propellers\n",
      "\n",
      "5. **of**\n",
      "   - Type: Preposition\n",
      "   - Role: Introduces the object of the prepositional phrase\n",
      "\n",
      "6. **PSLV** (Polar Satellite Launch Vehicle)\n",
      "   - Type: Proper Noun\n",
      "   - Role: Object of the prepositional phrase \"of PSLV\"\n",
      "\n",
      "7. **ISRO**\n",
      "   - Type: Acronym, stands for Indian Space Research Organization\n",
      "   - Role: Subject of the second clause\n",
      "\n",
      "8. **reliies**\n",
      "   - Type: Verb\n",
      "   - Role: Connects the subject ISRO to its object\n",
      "\n",
      "9. **heavily**\n",
      "   - Type: Adverb\n",
      "   - Role: Describes how ISRO relies on propellers\n",
      "\n",
      "10. **on** (them)\n",
      "    - Type: Preposition\n",
      "    - Role: Introduces the object of the prepositional phrase\n",
      "\n",
      "11. **them**\n",
      "    - Type: Pronoun, used as an object pronoun\n",
      "    - Role: Object of both \"reliies\" and the preposition \"on\"\n",
      "    - Represents \"Propellers\"\n",
      "\n",
      "In summary:\n",
      "- The first clause discusses the importance of propellers in relation to PSLV.\n",
      "- The second clause explains how ISRO heavily relies on these propellers.\n",
      "\n",
      "\n",
      "Execution Time 14.209593296051025 \n"
     ]
    }
   ],
   "source": [
    "#Entity recognition\n",
    "query=\"Propellers are important part of PSLV, ISRO relies heavily on them\"\n",
    "bot_answer(query)"
   ]
  },
  {
   "cell_type": "code",
   "execution_count": 5,
   "id": "67f1f545-2246-4595-a6dc-6751491d4a53",
   "metadata": {},
   "outputs": [
    {
     "name": "stdout",
     "output_type": "stream",
     "text": [
      "In this text, the following entities can be identified:\n",
      "\n",
      "1. **Person:**\n",
      "   - Elon Musk: A business magnate, investor, and engineer who founded SpaceX, Tesla Motors Inc., and X.ai.\n",
      "\n",
      "2. **Abstract Concepts:**\n",
      "   - Innovator: Someone who creates or introduces new ideas, devices, methods.\n",
      "   - Great Move: Here, it's used as an abstract concept referring to a wise decision or action that yields positive results.\n",
      "\n",
      "3. **Brands/Companies:**\n",
      "   - Twitter: A popular social networking service with headquarters in San Francisco, California.\n",
      "\n",
      "4. **Verbs (Actions):**\n",
      "   - Known: In this context, it signifies the understanding and awareness of someone's existence or qualities.\n",
      "   - Purchasing: Here, it implies buying something, specifically Twitter in this case.\n",
      "\n",
      "5. **Adjectives:**\n",
      "   - Biggest: Used here to describe Elon Musk as the most significant innovator known by the speaker.\n",
      "\n",
      "6. **Determiners:**\n",
      "   - I (as a determiner): Refers to the speaker or writer of the sentence.\n",
      "   - Ever: Used with 'known' to indicate at all times or throughout one's life up until now.\n",
      "\n",
      "7. **Conjunctions:**\n",
      "   - And: Connects two independent clauses in this compound sentence, separating them into two separate thoughts.\n",
      "\n",
      "\n",
      "Execution Time 10.528936862945557 \n"
     ]
    }
   ],
   "source": [
    "#Entity recognition\n",
    "query=\"Elon Musk is the biggest innovator I have ever known. Purchsing twitter was a great move\"\n",
    "bot_answer(query)"
   ]
  },
  {
   "cell_type": "code",
   "execution_count": 6,
   "id": "c70e369e-64c5-4568-be1f-8e7958506578",
   "metadata": {},
   "outputs": [
    {
     "name": "stdout",
     "output_type": "stream",
     "text": [
      "**Sentiment:** Positive\n",
      "**Strength of Sentiment:** Approximately 95% positive\n",
      "\n",
      "\n",
      "Execution Time 1.0697996616363525 \n"
     ]
    }
   ],
   "source": [
    "#Sentiment analyzer\n",
    "def bot_answer(query: str):\n",
    "\n",
    "   \n",
    "    start_time=time.time()\n",
    "    prompt_template = PromptTemplate(\n",
    "\n",
    "        input_variables=[\"query\"],\n",
    "         template=\"\"\"Mention te sentiment of the query, also mention the strength of sentiment in percentage\n",
    "          Query: {query}\n",
    "                \"\"\"\n",
    "         )\n",
    "           \n",
    "\n",
    "    llm = OllamaLLM(model=\"mistral-nemo:latest\")\n",
    "    llm_chain = LLMChain(llm=llm, prompt=prompt_template)\n",
    "    raw_response = llm_chain.run(query)\n",
    "    end_time=time.time()\n",
    "    print(raw_response)\n",
    "    print(\"\\n\")\n",
    "    print(f\"Execution Time {end_time-start_time} \")\n",
    "    return None\n",
    "\n",
    "query=\"I am the king of westeros!, No one can defeat me\"\n",
    "bot_answer(query)"
   ]
  },
  {
   "cell_type": "code",
   "execution_count": 7,
   "id": "7d82fd2b-2cb2-4c40-80cf-9d37678a9485",
   "metadata": {},
   "outputs": [
    {
     "name": "stdout",
     "output_type": "stream",
     "text": [
      "**Sentiment:** Negative\n",
      "\n",
      "**Strength of Sentiment (Percentage):** 95%\n",
      "\n",
      "Explanation:\n",
      "- The use of words like \"most mentally incompetent\" and \"ever seen\" indicate a strong negative opinion.\n",
      "- This sentiment is reinforced by the speaker's apparent certainty, as denoted by \"I have ever seen.\"\n",
      "- Only 5% neutral or positive sentiment remains due to the lack of any appreciable counterbalancing factors in the statement.\n",
      "\n",
      "\n",
      "Execution Time 3.5988893508911133 \n"
     ]
    }
   ],
   "source": [
    "query=\"Biden is the most mentally incompetent President I have ever seen\"\n",
    "bot_answer(query)"
   ]
  },
  {
   "cell_type": "code",
   "execution_count": 8,
   "id": "3c4fc801-a3fe-4410-b229-bed9064e9210",
   "metadata": {},
   "outputs": [
    {
     "name": "stdout",
     "output_type": "stream",
     "text": [
      "Sentiment: Positive\n",
      "\n",
      "Strength of Sentiment: 85%\n",
      "\n",
      "\n",
      "Execution Time 0.7521853446960449 \n"
     ]
    }
   ],
   "source": [
    "query=\"Vivek Ramasamy at this young age is wealthy, eloquent and has a clear vision for United states\"\n",
    "bot_answer(query)"
   ]
  },
  {
   "cell_type": "code",
   "execution_count": 9,
   "id": "5d3f1139-2c18-4736-99b3-a924273e98f5",
   "metadata": {},
   "outputs": [
    {
     "name": "stdout",
     "output_type": "stream",
     "text": [
      "Sentiment: Neutral/Mixed\n",
      "Strength of Sentiment: 45% Positive, 40% Negative, 15% Neutral\n",
      "\n",
      "\n",
      "Execution Time 1.3801884651184082 \n"
     ]
    }
   ],
   "source": [
    "query=\"Privatization of Arms industry is a double edged sword, Indian government will have to tread carefully\"\n",
    "bot_answer(query)"
   ]
  },
  {
   "cell_type": "code",
   "execution_count": 10,
   "id": "204d729e-6835-4861-891f-7fb084e868a3",
   "metadata": {},
   "outputs": [
    {
     "name": "stdout",
     "output_type": "stream",
     "text": [
      "Sentiment: Negative\n",
      "Strength of Sentiment: 95% (The query expresses strong displeasure and aversion, with minimal room for neutral or positive interpretation.)\n",
      "\n",
      "\n",
      "Execution Time 1.4911043643951416 \n"
     ]
    }
   ],
   "source": [
    "query=\"I dont like your face, Never come infront of me\"\n",
    "bot_answer(query)"
   ]
  },
  {
   "cell_type": "code",
   "execution_count": 11,
   "id": "c0127d00-79e0-48a2-8220-a0944761ab8e",
   "metadata": {},
   "outputs": [
    {
     "name": "stdout",
     "output_type": "stream",
     "text": [
      "Sentiment: Positive\n",
      "Strength of Sentiment: 95%\n",
      "\n",
      "\n",
      "Execution Time 0.8510773181915283 \n"
     ]
    }
   ],
   "source": [
    "query=\"I love you so much, never abandon me\"\n",
    "bot_answer(query)"
   ]
  },
  {
   "cell_type": "code",
   "execution_count": null,
   "id": "253bdce4-9cfe-4e95-8761-80384e097080",
   "metadata": {},
   "outputs": [],
   "source": []
  }
 ],
 "metadata": {
  "kernelspec": {
   "display_name": "Python 3 (ipykernel)",
   "language": "python",
   "name": "python3"
  },
  "language_info": {
   "codemirror_mode": {
    "name": "ipython",
    "version": 3
   },
   "file_extension": ".py",
   "mimetype": "text/x-python",
   "name": "python",
   "nbconvert_exporter": "python",
   "pygments_lexer": "ipython3",
   "version": "3.12.3"
  }
 },
 "nbformat": 4,
 "nbformat_minor": 5
}
