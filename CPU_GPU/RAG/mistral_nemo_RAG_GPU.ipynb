{
 "cells": [
  {
   "cell_type": "code",
   "execution_count": 1,
   "id": "353969a9-3fba-4957-9803-affb76a02237",
   "metadata": {},
   "outputs": [],
   "source": [
    "import ollama\n",
    "import time\n",
    "import os\n",
    "import json\n",
    "import numpy as np\n",
    "from numpy.linalg import norm\n",
    "from openai import OpenAI\n",
    "import time"
   ]
  },
  {
   "cell_type": "code",
   "execution_count": 3,
   "id": "6c13bcfa-099f-48c4-8de6-9d52e2d1822a",
   "metadata": {},
   "outputs": [],
   "source": [
    "def parse_file(filename):\n",
    "    with open(filename, encoding=\"utf-8-sig\") as f:\n",
    "        paragraphs = []\n",
    "        buffer = []\n",
    "        for line in f.readlines():\n",
    "            line = line.strip()\n",
    "            if line:\n",
    "                buffer.append(line)\n",
    "            elif len(buffer):\n",
    "                paragraphs.append((\" \").join(buffer))\n",
    "                buffer = []\n",
    "        if len(buffer):\n",
    "            paragraphs.append((\" \").join(buffer))\n",
    "        return paragraphs\n",
    "\n",
    "\n",
    "def save_embeddings(filename, embeddings):\n",
    "    # create dir if it doesn't exist\n",
    "    if not os.path.exists(\"embeddings\"):\n",
    "        os.makedirs(\"embeddings\")\n",
    "    # dump embeddings to json\n",
    "    with open(f\"embeddings/{filename}.json\", \"w\") as f:\n",
    "        json.dump(embeddings, f)\n",
    "\n",
    "\n",
    "\n",
    "\n",
    "def load_embeddings(filename):\n",
    "    # check if file exists\n",
    "    if not os.path.exists(f\"embeddings/{filename}.json\"):\n",
    "        return False\n",
    "    # load embeddings from json\n",
    "    with open(f\"embeddings/{filename}.json\", \"r\") as f:\n",
    "        return json.load(f)\n",
    "\n",
    "\n",
    "\n",
    "def get_embeddings(filename, modelname, chunks):\n",
    "    # check if embeddings are already saved\n",
    "    if (embeddings := load_embeddings(filename)) is not False:\n",
    "        return embeddings\n",
    "    # get embeddings from ollama\n",
    "    embeddings = [\n",
    "        ollama.embeddings(model=modelname, prompt=chunk)[\"embedding\"]\n",
    "        for chunk in chunks\n",
    "    ]\n",
    "    # save embeddings\n",
    "    save_embeddings(filename, embeddings)\n",
    "    return embeddings\n",
    "\n",
    "def find_most_similar(needle, haystack):\n",
    "    needle_norm = norm(needle)\n",
    "\n",
    "    similarity_scores = [\n",
    "        np.dot(needle, item) / (needle_norm * norm(item)) for item in haystack\n",
    "    ]\n",
    "\n",
    "    # print(needle, haystack[0])\n",
    "    # print(np.dot(needle, haystack[0]))\n",
    "    return sorted(zip(similarity_scores, range(len(haystack))), reverse=True)\n",
    "\n",
    "\n",
    "def rag_function(prompt):\n",
    "\n",
    "    SYSTEM_PROMPT = \"\"\"You are a helpful reading assistant who answers questions\n",
    "        based on snippets of text provided in context. Answer only using the context provided,\n",
    "        being as concise as possible. If you're unsure, just say that you don't know.\n",
    "        Do not give answers that are outside the context given.\n",
    "        Answer in about 150 words for each prompt.\n",
    "        Context:\n",
    "    \"\"\"\n",
    "    start_time = time.time()\n",
    "    \n",
    "    filename = \"data.txt\"\n",
    "    paragraphs = parse_file(filename)\n",
    "\n",
    "    embeddings = get_embeddings(filename, \"nomic-embed-text\", paragraphs)\n",
    "\n",
    "\n",
    "\n",
    "    \n",
    "    prompt_embedding = ollama.embeddings(model=\"nomic-embed-text\", prompt=prompt)[\"embedding\"]\n",
    "    most_similar_chunks = find_most_similar(prompt_embedding, embeddings)[:5]\n",
    "\n",
    "\n",
    "\n",
    "    response = ollama.chat(\n",
    "    model=\"mistral-nemo:latest\" ,\n",
    "    messages=[\n",
    "        {\n",
    "            \"role\": \"system\",\n",
    "            \"content\": SYSTEM_PROMPT\n",
    "            + \"\\n\".join(paragraphs[item[1]] for item in most_similar_chunks),\n",
    "        },\n",
    "        {\"role\": \"user\", \"content\": prompt},\n",
    "    ],\n",
    "    )\n",
    "\n",
    "\n",
    "    \n",
    "    end_time = time.time()\n",
    "    print(\"\\n\")\n",
    "    print(response['message']['content'])\n",
    "    print(\"\\n\")\n",
    "    print(f\"Execution Time {end_time-start_time} \")\n"
   ]
  },
  {
   "cell_type": "code",
   "execution_count": 4,
   "id": "d2580ca5-b4ab-43d3-8835-164a81ba7b47",
   "metadata": {},
   "outputs": [
    {
     "name": "stdout",
     "output_type": "stream",
     "text": [
      "\n",
      "\n",
      "**Sachin Tendulkar's Achievements:**\n",
      "\n",
      "- **International Runs:**\n",
      "  - Test: Over 15,000 runs (Highest all-time)\n",
      "  - ODI: Over 18,000 runs (Highest all-time)\n",
      "\n",
      "- **Player of the Match Awards:** Most in international cricket\n",
      "\n",
      "- **ICC Awards:**\n",
      "  - Sir Garfield Sobers Trophy for Cricketer of the Year (2010)\n",
      "  - Player of the Tournament (2003 Cricket World Cup)\n",
      "\n",
      "- **Team trophies:**\n",
      "  - ICC Champions Trophy (2002, joint winner)\n",
      "  - Cricket World Cup (2011)\n",
      "\n",
      "- **Indian Government Awards:**\n",
      "  - Arjuna Award (1994)\n",
      "  - Khel Ratna Award (1997)\n",
      "  - Padma Shri (1998)\n",
      "  - Padma Vibhushan (2008)\n",
      "  - Bharat Ratna (2013)\n",
      "\n",
      "- **Other Recognitions:**\n",
      "  - Wisden Cricketers' Almanack ranked him second-greatest Test and ODI batsman (2002)\n",
      "  - ICC Cricket Hall of Fame inductee (2019)\n",
      "\n",
      "\n",
      "Execution Time 12.142996788024902 \n"
     ]
    }
   ],
   "source": [
    "#Strainght forward Question, with 27B model\n",
    "prompt=\"Enlist the achievements of Sachin Tendulkar\"\n",
    "rag_function(prompt)"
   ]
  },
  {
   "cell_type": "code",
   "execution_count": 5,
   "id": "ffa23e06-eeea-4a1e-9f92-95053fbbdf7b",
   "metadata": {},
   "outputs": [
    {
     "name": "stdout",
     "output_type": "stream",
     "text": [
      "\n",
      "\n",
      "Based on the context provided, Tendulkar is regarded as one of the greatest batsmen in cricket history. He holds the record for the highest run-scorer in both ODI and Test cricket. On the other hand, Ganguly is popularly called the 'Maharaja of Indian Cricket' and is considered one of India's most successful captains. However, Tendulkar's batting records make him a better batsman compared to Ganguly.\n",
      "\n",
      "\n",
      "Execution Time 4.8565287590026855 \n"
     ]
    }
   ],
   "source": [
    "#Reasoning RAG\n",
    "\n",
    "prompt=\"Who is better batsman Sachin or Sourav?\"\n",
    "rag_function(prompt)"
   ]
  },
  {
   "cell_type": "code",
   "execution_count": 11,
   "id": "97a7da21-32ec-4488-affb-3df647dc50c1",
   "metadata": {},
   "outputs": [
    {
     "name": "stdout",
     "output_type": "stream",
     "text": [
      "\n",
      "\n",
      "Dhoni\n",
      "\n",
      "\n",
      "Execution Time 1.456542730331421 \n"
     ]
    }
   ],
   "source": [
    "#Reasoning RAG\n",
    "\n",
    "prompt=\"Who is better Captain Dhoni or Sourav? Answer in one word only\"\n",
    "rag_function(prompt)"
   ]
  },
  {
   "cell_type": "code",
   "execution_count": 8,
   "id": "10e07908-ab77-48f4-b8f5-841732ee70ac",
   "metadata": {},
   "outputs": [
    {
     "name": "stdout",
     "output_type": "stream",
     "text": [
      "\n",
      "\n",
      "Sachin Tendulkar: 34,369\n",
      "MS Dhoni: 25,875\n",
      "\n",
      "\n",
      "Execution Time 1.394803762435913 \n"
     ]
    }
   ],
   "source": [
    "#Analytical RAG\n",
    "\n",
    "prompt=\"Difference between total runs scored by Sachin and Dhoni? Just give the number, No explanation needed\"\n",
    "rag_function(prompt)"
   ]
  },
  {
   "cell_type": "code",
   "execution_count": 9,
   "id": "bdd96435-ee09-4c8d-8172-a9ef8fe72de6",
   "metadata": {},
   "outputs": [
    {
     "name": "stdout",
     "output_type": "stream",
     "text": [
      "\n",
      "\n",
      "Dhoni has received the Khel Ratna Award (2008), Padma Shri (2009), and Padma Bhushan (2018). Sachin Tendulkar has been nominated to Rajya Sabha (2012-2018) and is the recipient of Bharat Ratna (2013). Dhoni has more awards, but Tendulkar's Bharat Ratna is India's highest civilian award.\n",
      "\n",
      "\n",
      "Execution Time 5.043278694152832 \n"
     ]
    }
   ],
   "source": [
    "#Analytical RAG\n",
    "\n",
    "prompt=\"Who has most accolades Dhoni or sachin?\"\n",
    "rag_function(prompt)"
   ]
  },
  {
   "cell_type": "code",
   "execution_count": 10,
   "id": "89dafde2-c274-4d6c-8acc-4033c279abf8",
   "metadata": {},
   "outputs": [
    {
     "name": "stdout",
     "output_type": "stream",
     "text": [
      "\n",
      "\n",
      "Tendulkar\n",
      "\n",
      "\n",
      "Execution Time 1.6475763320922852 \n"
     ]
    }
   ],
   "source": [
    "#Analytical RAG\n",
    "\n",
    "prompt=\"Amongst three, who is the best player in World cups? Answer in one word only\"\n",
    "rag_function(prompt)"
   ]
  },
  {
   "cell_type": "code",
   "execution_count": 12,
   "id": "c1cdb923-2f02-4259-81fe-db6908bec862",
   "metadata": {},
   "outputs": [
    {
     "name": "stdout",
     "output_type": "stream",
     "text": [
      "\n",
      "\n",
      "Sachin Tendulkar has received the most awards among the three: Arjuna Award (1994), Khel Ratna Award (1997), Padma Shri (1998), Bharat Ratna (2013), Sir Garfield Sobers Trophy (2010).\n",
      "\n",
      "\n",
      "Execution Time 3.7773056030273438 \n"
     ]
    }
   ],
   "source": [
    "#Analytical RAG\n",
    "\n",
    "prompt=\"Amongst three, who has most awards?\"\n",
    "rag_function(prompt)"
   ]
  },
  {
   "cell_type": "code",
   "execution_count": 13,
   "id": "1d616572-8c34-4dbd-b8bd-9b0bf5d2edbe",
   "metadata": {},
   "outputs": [
    {
     "name": "stdout",
     "output_type": "stream",
     "text": [
      "\n",
      "\n",
      "Sachin Tendulkar: 7\n",
      "\n",
      "\n",
      "Execution Time 1.2189795970916748 \n"
     ]
    }
   ],
   "source": [
    "#Analytical RAG\n",
    "\n",
    "prompt=\"Amongst three, who has most awards? Give name of player and number only\"\n",
    "rag_function(prompt)"
   ]
  },
  {
   "cell_type": "code",
   "execution_count": 15,
   "id": "eb07e8ed-6f7e-4b15-9a4d-6a3bbfdd0345",
   "metadata": {},
   "outputs": [
    {
     "name": "stdout",
     "output_type": "stream",
     "text": [
      "\n",
      "\n",
      "- **Playing Career:**\n",
      "  - Debuted for Bihar in first-class cricket (1999)\n",
      "  - Made ODI debut for India against Bangladesh (2004), Test debut against Sri Lanka (2005)\n",
      "  - Retired from Tests (2014), limited overs career ended in 2019\n",
      "  - Scored over 17,000 international runs; 10,000+ ODI runs at an average above 50\n",
      "\n",
      "- **Captaincy:**\n",
      "  - Led India to victory in ICC tournaments: WT20 (2007), CWC (2011), CT (2013)\n",
      "  - Led Chennai Super Kings (CSK) to IPL final 10 times, winning 5 titles (2010, 2011, 2018, 2021, 2023)\n",
      "\n",
      "- **Awards and Recognitions:**\n",
      "  - Major Dhyan Chand Khel Ratna Award (2007)\n",
      "  - Padma Shri (2008), Padma Bhushan (2018)\n",
      "  - Honorary rank of Lieutenant Colonel in Indian Territorial Army (2011)\n",
      "\n",
      "\n",
      "Execution Time 10.450191259384155 \n"
     ]
    }
   ],
   "source": [
    "#Summary RAG\n",
    "\n",
    "prompt=\"Give me summary of Dhoni's career, in less than 200 words? Answer in bullet points\"\n",
    "rag_function(prompt)"
   ]
  },
  {
   "cell_type": "code",
   "execution_count": 16,
   "id": "90819398-13e7-4f23-b284-769e7996ed38",
   "metadata": {},
   "outputs": [
    {
     "name": "stdout",
     "output_type": "stream",
     "text": [
      "\n",
      "\n",
      "- **Early Career**: Sourav Ganguly started his international cricket career in 1992 against England.\n",
      "- **Captaincy Debut**: He became the captain of the Indian national team in 2000, replacing Mohammad Azharuddin.\n",
      "- **Major Achievements**:\n",
      "  - Led India to win the 2002 ICC Champions Trophy.\n",
      "  - Reached the final of the 2003 Cricket World Cup and was named the Man of the Series.\n",
      "  - Also reached the finals of the 2000 ICC Champions Trophy and the 2004 Asia Cup under his captaincy.\n",
      "\n",
      "\n",
      "Execution Time 6.488038063049316 \n"
     ]
    }
   ],
   "source": [
    "#Summary RAG\n",
    "\n",
    "prompt=\"In about 150 words, give an overview of Sourav's career, answer in numbered bullet points\"\n",
    "rag_function(prompt)"
   ]
  },
  {
   "cell_type": "code",
   "execution_count": 17,
   "id": "a0407d1c-92cf-4ddb-b0c3-163158a8e0b9",
   "metadata": {},
   "outputs": [
    {
     "name": "stdout",
     "output_type": "stream",
     "text": [
      "\n",
      "\n",
      "- Sachin Tendulkar: 34,357 runs\n",
      "- MS Dhoni: >5000 runs (IPL)\n",
      "- Sourav Ganguly: 11363 runs\n",
      "\n",
      "\n",
      "Execution Time 3.186295747756958 \n"
     ]
    }
   ],
   "source": [
    "#Analytical RAG\n",
    "\n",
    "prompt=\"Enlist the total runs scored by all three players. Present the answer in ordered list in decreasing order\"\n",
    "rag_function(prompt)"
   ]
  }
 ],
 "metadata": {
  "kernelspec": {
   "display_name": "Python 3 (ipykernel)",
   "language": "python",
   "name": "python3"
  },
  "language_info": {
   "codemirror_mode": {
    "name": "ipython",
    "version": 3
   },
   "file_extension": ".py",
   "mimetype": "text/x-python",
   "name": "python",
   "nbconvert_exporter": "python",
   "pygments_lexer": "ipython3",
   "version": "3.12.3"
  }
 },
 "nbformat": 4,
 "nbformat_minor": 5
}
