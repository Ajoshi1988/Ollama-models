{
 "cells": [
  {
   "cell_type": "code",
   "execution_count": 1,
   "id": "2d1959d6-7e1c-4271-a533-23c12c8815d1",
   "metadata": {},
   "outputs": [],
   "source": [
    "import ollama\n",
    "import time\n",
    "import os\n",
    "import json\n",
    "import numpy as np\n",
    "from numpy.linalg import norm\n",
    "from openai import OpenAI\n",
    "import time"
   ]
  },
  {
   "cell_type": "code",
   "execution_count": 2,
   "id": "30e41dc5-634d-4dcd-846b-0f9f6b49cecc",
   "metadata": {},
   "outputs": [],
   "source": [
    "def parse_file(filename):\n",
    "    with open(filename, encoding=\"utf-8-sig\") as f:\n",
    "        paragraphs = []\n",
    "        buffer = []\n",
    "        for line in f.readlines():\n",
    "            line = line.strip()\n",
    "            if line:\n",
    "                buffer.append(line)\n",
    "            elif len(buffer):\n",
    "                paragraphs.append((\" \").join(buffer))\n",
    "                buffer = []\n",
    "        if len(buffer):\n",
    "            paragraphs.append((\" \").join(buffer))\n",
    "        return paragraphs\n",
    "\n",
    "\n",
    "def save_embeddings(filename, embeddings):\n",
    "    # create dir if it doesn't exist\n",
    "    if not os.path.exists(\"embeddings\"):\n",
    "        os.makedirs(\"embeddings\")\n",
    "    # dump embeddings to json\n",
    "    with open(f\"embeddings/{filename}.json\", \"w\") as f:\n",
    "        json.dump(embeddings, f)\n",
    "\n",
    "\n",
    "\n",
    "\n",
    "def load_embeddings(filename):\n",
    "    # check if file exists\n",
    "    if not os.path.exists(f\"embeddings/{filename}.json\"):\n",
    "        return False\n",
    "    # load embeddings from json\n",
    "    with open(f\"embeddings/{filename}.json\", \"r\") as f:\n",
    "        return json.load(f)\n",
    "\n",
    "\n",
    "\n",
    "def get_embeddings(filename, modelname, chunks):\n",
    "    # check if embeddings are already saved\n",
    "    if (embeddings := load_embeddings(filename)) is not False:\n",
    "        return embeddings\n",
    "    # get embeddings from ollama\n",
    "    embeddings = [\n",
    "        ollama.embeddings(model=modelname, prompt=chunk)[\"embedding\"]\n",
    "        for chunk in chunks\n",
    "    ]\n",
    "    # save embeddings\n",
    "    save_embeddings(filename, embeddings)\n",
    "    return embeddings\n",
    "\n",
    "def find_most_similar(needle, haystack):\n",
    "    needle_norm = norm(needle)\n",
    "\n",
    "    similarity_scores = [\n",
    "        np.dot(needle, item) / (needle_norm * norm(item)) for item in haystack\n",
    "    ]\n",
    "\n",
    "    # print(needle, haystack[0])\n",
    "    # print(np.dot(needle, haystack[0]))\n",
    "    return sorted(zip(similarity_scores, range(len(haystack))), reverse=True)\n",
    "\n",
    "\n",
    "def rag_function(prompt):\n",
    "\n",
    "    SYSTEM_PROMPT = \"\"\"You are a helpful reading assistant who answers questions\n",
    "        based on snippets of text provided in context. Answer only using the context provided,\n",
    "        being as concise as possible. If you're unsure, just say that you don't know.\n",
    "        Do not give answers that are outside the context given.\n",
    "        Answer in about 150 words for each prompt.\n",
    "        Context:\n",
    "    \"\"\"\n",
    "    start_time = time.time()\n",
    "    \n",
    "    filename = \"data.txt\"\n",
    "    paragraphs = parse_file(filename)\n",
    "\n",
    "    embeddings = get_embeddings(filename, \"nomic-embed-text\", paragraphs)\n",
    "\n",
    "\n",
    "\n",
    "    \n",
    "    prompt_embedding = ollama.embeddings(model=\"nomic-embed-text\", prompt=prompt)[\"embedding\"]\n",
    "    most_similar_chunks = find_most_similar(prompt_embedding, embeddings)[:5]\n",
    "\n",
    "\n",
    "\n",
    "    response = ollama.chat(\n",
    "    model=\"gemma2:9b\" ,\n",
    "    messages=[\n",
    "        {\n",
    "            \"role\": \"system\",\n",
    "            \"content\": SYSTEM_PROMPT\n",
    "            + \"\\n\".join(paragraphs[item[1]] for item in most_similar_chunks),\n",
    "        },\n",
    "        {\"role\": \"user\", \"content\": prompt},\n",
    "    ],\n",
    "    )\n",
    "\n",
    "\n",
    "    \n",
    "    end_time = time.time()\n",
    "    print(\"\\n\")\n",
    "    print(response['message']['content'])\n",
    "    print(\"\\n\")\n",
    "    print(f\"Execution Time {end_time-start_time} \")\n"
   ]
  },
  {
   "cell_type": "code",
   "execution_count": 3,
   "id": "9047e0d6-0b4f-48fa-903e-ef3542dfce22",
   "metadata": {},
   "outputs": [
    {
     "name": "stdout",
     "output_type": "stream",
     "text": [
      "\n",
      "\n",
      "Sachin Tendulkar is widely regarded as one of the greatest batsmen in cricket history.  \n",
      "\n",
      "He holds numerous records:\n",
      "\n",
      "* **Highest run-scorer** in both ODI and Test cricket, with over 18,000 and 15,000 runs respectively.\n",
      "* **Most player of the match awards** in international cricket.\n",
      "* **First sportsperson to receive the Bharat Ratna**, India's highest civilian award.\n",
      "* Named **one of Time's most influential people** in the world in 2010.\n",
      "* Awarded the **Sir Garfield Sobers Trophy for cricketer of the year** at the 2010 ICC Awards.\n",
      "\n",
      "He was part of the Indian team that won the **2011 Cricket World Cup**, and was named \"Player of the Tournament\" at the **2003 World Cup**.  \n",
      "\n",
      "\n",
      "Tendulkar is also recognized by Wisden as one of the greatest Test and ODI batsmen of all time, ranking him second behind Don Bradman and Viv Richards respectively. \n",
      "\n",
      "\n",
      "\n",
      "Execution Time 10.876875400543213 \n"
     ]
    }
   ],
   "source": [
    "#Strainght forward Question, with 27B model\n",
    "prompt=\"Enlist the achievements of Sachin Tendulkar\"\n",
    "rag_function(prompt)"
   ]
  },
  {
   "cell_type": "code",
   "execution_count": 4,
   "id": "a5f3c00a-973a-430a-8b1b-afc75c1d120b",
   "metadata": {},
   "outputs": [
    {
     "name": "stdout",
     "output_type": "stream",
     "text": [
      "\n",
      "\n",
      "The provided text states that Sachin Tendulkar is widely regarded as one of the greatest batsmen in the history of cricket and is the all-time highest run-scorer in both ODI and Test cricket.  \n",
      "\n",
      "It also says that Sourav Ganguly is a former cricketer who is popularly called the Maharaja of Indian Cricket. \n",
      "\n",
      "\n",
      "The text does not provide a comparison between Sachin Tendulkar and Sourav Ganguly as batsmen. \n",
      "\n",
      "\n",
      "\n",
      "Execution Time 4.4356677532196045 \n"
     ]
    }
   ],
   "source": [
    "#Reasoning RAG\n",
    "\n",
    "prompt=\"Who is better batsman Sachin or Sourav?\"\n",
    "rag_function(prompt)"
   ]
  },
  {
   "cell_type": "code",
   "execution_count": 5,
   "id": "f7cdc6f5-712c-4a80-a9c4-e97819573a7c",
   "metadata": {},
   "outputs": [
    {
     "name": "stdout",
     "output_type": "stream",
     "text": [
      "\n",
      "\n",
      "The text provides information about both MS Dhoni and Sourav Ganguly's accomplishments as captains, but it doesn't directly compare them to say who is \"better.\"  \n",
      "\n",
      "It highlights Dhoni's success leading India to victory in the 2007 ICC World Twenty20, the 2011 Cricket World Cup, and the 2013 ICC Champions Trophy. It also mentions Ganguly leading India to win the 2002 ICC Champions Trophy and reaching the final of the 2003 Cricket World Cup.  \n",
      "\n",
      "To determine who is considered a \"better\" captain, one would need to consider additional factors beyond the victories mentioned in the text. \n",
      "\n",
      "\n",
      "\n",
      "Execution Time 6.0236194133758545 \n"
     ]
    }
   ],
   "source": [
    "#Reasoning RAG\n",
    "\n",
    "prompt=\"Who is better Captain Dhoni or Sourav?\"\n",
    "rag_function(prompt)"
   ]
  },
  {
   "cell_type": "code",
   "execution_count": 6,
   "id": "9c2f08a1-9384-4ca8-a4cd-6b15a31f9a2e",
   "metadata": {},
   "outputs": [
    {
     "name": "stdout",
     "output_type": "stream",
     "text": [
      "\n",
      "\n",
      "The text states that Sachin Tendulkar holds the record for the highest run-scorer in both ODI and Test cricket with more than 18,000 runs and 15,000 runs respectively.  It also says that MS Dhoni has scored 17,266 runs in international cricket.  \n",
      "\n",
      "\n",
      "We cannot determine the exact difference between the total runs scored by Sachin and Dhoni from the given text. \n",
      "\n",
      "\n",
      "\n",
      "Execution Time 4.317958116531372 \n"
     ]
    }
   ],
   "source": [
    "#Analytical RAG\n",
    "\n",
    "prompt=\"Difference between total runs scored by Sachin and Dhoni\"\n",
    "rag_function(prompt)"
   ]
  },
  {
   "cell_type": "code",
   "execution_count": 7,
   "id": "10accb75-e7c7-4cae-981d-3dd9092fe480",
   "metadata": {},
   "outputs": [
    {
     "name": "stdout",
     "output_type": "stream",
     "text": [
      "\n",
      "\n",
      "While both Dhoni and Sachin have achieved incredible success, the text doesn't provide a direct comparison of their total accolades.  \n",
      "\n",
      "It does state that Dhoni received India's highest sports honor (Khel Ratna Award) in 2008, followed by the Padma Shri in 2009 and Padma Bhushan in 2018. Additionally, he holds an honorary rank of Lieutenant Colonel in the Indian Territorial Army.\n",
      "\n",
      "The text focuses more on Dhoni's accomplishments as a cricketer, highlighting his captaincy record and achievements in various tournaments like the World Cup and Champions Trophy.  \n",
      "\n",
      "\n",
      "\n",
      "Execution Time 5.381108522415161 \n"
     ]
    }
   ],
   "source": [
    "#Analytical RAG\n",
    "\n",
    "prompt=\"Who has most accolades Dhoni or sachin?\"\n",
    "rag_function(prompt)"
   ]
  },
  {
   "cell_type": "code",
   "execution_count": 8,
   "id": "e988ed14-3944-4f44-8cdb-e3eee4766b05",
   "metadata": {},
   "outputs": [
    {
     "name": "stdout",
     "output_type": "stream",
     "text": [
      "\n",
      "\n",
      "Based on the context provided, it states that MS Dhoni led India to victory in the 2011 Cricket World Cup, while Sachin Tendulkar was part of the winning team in the 2011 Cricket World Cup. It also mentions that Sourav Ganguly led India to the final of the 2003 Cricket World Cup.\n",
      "\n",
      "Therefore, it can be inferred that MS Dhoni and Sachin Tendulkar are the two players who have won the Cricket World Cup based on the information given.  \n",
      "\n",
      "\n",
      "\n",
      "\n",
      "\n",
      "Execution Time 8.55366039276123 \n"
     ]
    }
   ],
   "source": [
    "#Analytical RAG\n",
    "\n",
    "prompt=\"Amongst three, who is the best player in World cups?\"\n",
    "rag_function(prompt)"
   ]
  },
  {
   "cell_type": "code",
   "execution_count": 9,
   "id": "7c444a2a-4c26-42ee-83b8-c57890f5827f",
   "metadata": {},
   "outputs": [
    {
     "name": "stdout",
     "output_type": "stream",
     "text": [
      "\n",
      "\n",
      "Based on the text provided, Sachin Tendulkar has received the most awards. \n",
      "\n",
      "The text states that he received the Arjuna Award, Khel Ratna Award, Padma Shri, Padma Vibhushan, and the Bharat Ratna.  It also mentions that he was named cricketer of the year at the 2010 ICC Awards and was included in Time magazine's list of the most influential people in the world in 2010.\n",
      "\n",
      "\n",
      "Let me know if you have any other questions!\n",
      "\n",
      "\n",
      "Execution Time 4.5958571434021 \n"
     ]
    }
   ],
   "source": [
    "#Analytical RAG\n",
    "\n",
    "prompt=\"Amongst three, who has most awards?\"\n",
    "rag_function(prompt)"
   ]
  },
  {
   "cell_type": "code",
   "execution_count": 10,
   "id": "65b1a4fb-04ed-494d-8f1f-5d8769b5cac8",
   "metadata": {},
   "outputs": [
    {
     "name": "stdout",
     "output_type": "stream",
     "text": [
      "\n",
      "\n",
      "MS Dhoni is an Indian cricketer renowned for his exceptional skills as a right-handed batter and wicketkeeper. He captained the Indian cricket team across all formats from 2007 to 2017, achieving significant success. \n",
      "\n",
      "Under his leadership, India won the 2007 ICC World Twenty20, the 2011 Cricket World Cup, and the 2013 ICC Champions Trophy, making him the only captain to win three different limited-overs ICC tournaments.  He also led CSK to victory in five IPL titles (2010, 2011, 2018, 2021, and 2023), cementing his legacy as a successful captain. Dhoni retired from international cricket in 2019 but continues to play in the IPL.  He is widely regarded as one of the most prolific wicketkeeper-batsmen and captains in cricket history. \n",
      "\n",
      "\n",
      "\n",
      "\n",
      "\n",
      "Execution Time 8.176948070526123 \n"
     ]
    }
   ],
   "source": [
    "#Summary RAG\n",
    "\n",
    "prompt=\"Give me summary of Dhoni's career, in less than 200 words?\"\n",
    "rag_function(prompt)"
   ]
  },
  {
   "cell_type": "code",
   "execution_count": 11,
   "id": "13b12542-161d-46a9-a6c1-9840d7ad90f9",
   "metadata": {},
   "outputs": [
    {
     "name": "stdout",
     "output_type": "stream",
     "text": [
      "\n",
      "\n",
      "Sourav Ganguly, nicknamed \"Dada,\" is a former Indian cricketer widely regarded as one of India's most successful captains. He led the Indian national cricket team to victory in the 2002 ICC Champions Trophy and guided them to the finals of major tournaments like the 2003 Cricket World Cup, the 2000 ICC Champions Trophy, and the 2004 Asia Cup.\n",
      "\n",
      "Known as the \"Maharaja of Indian Cricket,\" Ganguly's captaincy era was marked by a shift in India's cricketing approach, emphasizing aggressive batting and fielding.  After retiring from playing, he transitioned into cricket commentary.  \n",
      "\n",
      "\n",
      "\n",
      "\n",
      "\n",
      "Execution Time 6.233846187591553 \n"
     ]
    }
   ],
   "source": [
    "#Summary RAG\n",
    "\n",
    "prompt=\"In about 150 words, give an overview of Sourav's career\"\n",
    "rag_function(prompt)"
   ]
  },
  {
   "cell_type": "code",
   "execution_count": 12,
   "id": "ba6f23f3-db3b-46f8-bfd1-11cb8fafea8d",
   "metadata": {},
   "outputs": [
    {
     "name": "stdout",
     "output_type": "stream",
     "text": [
      "\n",
      "\n",
      "The provided text gives the total runs for Sachin Tendulkar (34,357), Ganguly (11,363), and Dhoni (17,266). \n",
      "\n",
      "\n",
      "Let me know if you'd like to know more about any specific player! \n",
      "\n",
      "\n",
      "\n",
      "Execution Time 3.293548583984375 \n"
     ]
    }
   ],
   "source": [
    "#Analytical RAG\n",
    "\n",
    "prompt=\"Enlist the total runs scored by all three players\"\n",
    "rag_function(prompt)"
   ]
  },
  {
   "cell_type": "code",
   "execution_count": null,
   "id": "ef8724ff-7ac5-4816-851a-c894ddfe84ea",
   "metadata": {},
   "outputs": [],
   "source": []
  }
 ],
 "metadata": {
  "kernelspec": {
   "display_name": "Python 3 (ipykernel)",
   "language": "python",
   "name": "python3"
  },
  "language_info": {
   "codemirror_mode": {
    "name": "ipython",
    "version": 3
   },
   "file_extension": ".py",
   "mimetype": "text/x-python",
   "name": "python",
   "nbconvert_exporter": "python",
   "pygments_lexer": "ipython3",
   "version": "3.12.3"
  }
 },
 "nbformat": 4,
 "nbformat_minor": 5
}
