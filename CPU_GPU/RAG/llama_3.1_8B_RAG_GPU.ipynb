{
 "cells": [
  {
   "cell_type": "code",
   "execution_count": 3,
   "id": "968a0105-4c0d-47c2-92d4-137f6fcc408e",
   "metadata": {},
   "outputs": [],
   "source": [
    "import ollama\n",
    "import time\n",
    "import os\n",
    "import json\n",
    "import numpy as np\n",
    "from numpy.linalg import norm\n",
    "from openai import OpenAI\n",
    "import time"
   ]
  },
  {
   "cell_type": "code",
   "execution_count": 4,
   "id": "827af6d7-3c9e-49b0-bfb6-12b058988fea",
   "metadata": {},
   "outputs": [],
   "source": [
    "def parse_file(filename):\n",
    "    with open(filename, encoding=\"utf-8-sig\") as f:\n",
    "        paragraphs = []\n",
    "        buffer = []\n",
    "        for line in f.readlines():\n",
    "            line = line.strip()\n",
    "            if line:\n",
    "                buffer.append(line)\n",
    "            elif len(buffer):\n",
    "                paragraphs.append((\" \").join(buffer))\n",
    "                buffer = []\n",
    "        if len(buffer):\n",
    "            paragraphs.append((\" \").join(buffer))\n",
    "        return paragraphs\n",
    "\n",
    "\n",
    "def save_embeddings(filename, embeddings):\n",
    "    # create dir if it doesn't exist\n",
    "    if not os.path.exists(\"embeddings\"):\n",
    "        os.makedirs(\"embeddings\")\n",
    "    # dump embeddings to json\n",
    "    with open(f\"embeddings/{filename}.json\", \"w\") as f:\n",
    "        json.dump(embeddings, f)\n",
    "\n",
    "\n",
    "\n",
    "\n",
    "def load_embeddings(filename):\n",
    "    # check if file exists\n",
    "    if not os.path.exists(f\"embeddings/{filename}.json\"):\n",
    "        return False\n",
    "    # load embeddings from json\n",
    "    with open(f\"embeddings/{filename}.json\", \"r\") as f:\n",
    "        return json.load(f)\n",
    "\n",
    "\n",
    "\n",
    "def get_embeddings(filename, modelname, chunks):\n",
    "    # check if embeddings are already saved\n",
    "    if (embeddings := load_embeddings(filename)) is not False:\n",
    "        return embeddings\n",
    "    # get embeddings from ollama\n",
    "    embeddings = [\n",
    "        ollama.embeddings(model=modelname, prompt=chunk)[\"embedding\"]\n",
    "        for chunk in chunks\n",
    "    ]\n",
    "    # save embeddings\n",
    "    save_embeddings(filename, embeddings)\n",
    "    return embeddings\n",
    "\n",
    "def find_most_similar(needle, haystack):\n",
    "    needle_norm = norm(needle)\n",
    "\n",
    "    similarity_scores = [\n",
    "        np.dot(needle, item) / (needle_norm * norm(item)) for item in haystack\n",
    "    ]\n",
    "\n",
    "    # print(needle, haystack[0])\n",
    "    # print(np.dot(needle, haystack[0]))\n",
    "    return sorted(zip(similarity_scores, range(len(haystack))), reverse=True)\n",
    "\n",
    "\n",
    "def rag_function(prompt):\n",
    "\n",
    "    SYSTEM_PROMPT = \"\"\"You are a helpful reading assistant who answers questions\n",
    "        based on snippets of text provided in context. Answer only using the context provided,\n",
    "        being as concise as possible. If you're unsure, just say that you don't know.\n",
    "        Do not give answers that are outside the context given.\n",
    "        Answer in about 150 words for each prompt.\n",
    "        Context:\n",
    "    \"\"\"\n",
    "    start_time = time.time()\n",
    "    \n",
    "    filename = \"data.txt\"\n",
    "    paragraphs = parse_file(filename)\n",
    "\n",
    "    embeddings = get_embeddings(filename, \"nomic-embed-text\", paragraphs)\n",
    "\n",
    "\n",
    "\n",
    "    \n",
    "    prompt_embedding = ollama.embeddings(model=\"nomic-embed-text\", prompt=prompt)[\"embedding\"]\n",
    "    most_similar_chunks = find_most_similar(prompt_embedding, embeddings)[:5]\n",
    "\n",
    "\n",
    "\n",
    "    response = ollama.chat(\n",
    "    model=\"llama3.1:8b\" ,\n",
    "    messages=[\n",
    "        {\n",
    "            \"role\": \"system\",\n",
    "            \"content\": SYSTEM_PROMPT\n",
    "            + \"\\n\".join(paragraphs[item[1]] for item in most_similar_chunks),\n",
    "        },\n",
    "        {\"role\": \"user\", \"content\": prompt},\n",
    "    ],\n",
    "    )\n",
    "\n",
    "\n",
    "    \n",
    "    end_time = time.time()\n",
    "    print(\"\\n\")\n",
    "    print(response['message']['content'])\n",
    "    print(\"\\n\")\n",
    "    print(f\"Execution Time {end_time-start_time} \")\n"
   ]
  },
  {
   "cell_type": "code",
   "execution_count": 5,
   "id": "5de0ff3a-ab85-4fa2-b1fa-52aeb6086d41",
   "metadata": {},
   "outputs": [
    {
     "name": "stdout",
     "output_type": "stream",
     "text": [
      "\n",
      "\n",
      "Based on the provided context, here are some of Sachin Tendulkar's notable achievements:\n",
      "\n",
      "* Regarded as one of the greatest batsmen in the history of cricket\n",
      "* Hailed as the world's most prolific batsman of all time\n",
      "* All-time highest run-scorer in both ODI and Test cricket with more than 18,000 runs and 15,000 runs respectively\n",
      "* Holds the record for receiving the most player of the match awards in international cricket\n",
      "* Member of Parliament (Rajya Sabha) by presidential nomination from 2012 to 2018\n",
      "* Received several awards from the government of India:\n",
      "\t+ Arjuna Award (1994)\n",
      "\t+ Khel Ratna Award (1997)\n",
      "\t+ Padma Shri (1998)\n",
      "\t+ Padma Vibhushan (2008)\n",
      "\t+ Bharat Ratna, India's highest civilian award (2013), making him the first sportsperson and youngest recipient\n",
      "* Included in Time magazine's list of most influential people in the world (2010)\n",
      "* Awarded the Sir Garfield Sobers Trophy for cricketer of the year at the 2010 International Cricket Council (ICC) Awards\n",
      "* Part of the Indian team that won the 2011 Cricket World Cup and was a joint-winner of the 2002 ICC Champions Trophy with India\n",
      "* Played 664 international cricket matches, scoring 34,357 runs\n",
      "\n",
      "\n",
      "Execution Time 9.553460836410522 \n"
     ]
    }
   ],
   "source": [
    "#Strainght forward Question, with 27B model\n",
    "prompt=\"Enlist the achievements of Sachin Tendulkar\"\n",
    "rag_function(prompt)"
   ]
  },
  {
   "cell_type": "code",
   "execution_count": 6,
   "id": "9058a362-5f3e-48aa-ad3b-fb5d9e04d11e",
   "metadata": {},
   "outputs": [
    {
     "name": "stdout",
     "output_type": "stream",
     "text": [
      "\n",
      "\n",
      "Based on the provided context, it's difficult to make a direct comparison between Sachin Tendulkar and Sourav Ganguly as batsmen, as they played in different eras and had different styles of play. However, according to the text, Sachin Tendulkar is \"widely regarded as one of the greatest batsmen in the history of cricket\" and holds numerous records, including being the all-time highest run-scorer in both ODI and Test cricket.\n",
      "\n",
      "While Sourav Ganguly is also a successful cricketer and former captain of the Indian national team, there is no direct comparison or statement made that suggests he is better than Sachin Tendulkar as a batsman.\n",
      "\n",
      "\n",
      "Execution Time 4.7582032680511475 \n"
     ]
    }
   ],
   "source": [
    "#Reasoning RAG\n",
    "\n",
    "prompt=\"Who is better batsman Sachin or Sourav?\"\n",
    "rag_function(prompt)"
   ]
  },
  {
   "cell_type": "code",
   "execution_count": 7,
   "id": "a7a1f2fc-da77-4e04-b821-f121c164442c",
   "metadata": {},
   "outputs": [
    {
     "name": "stdout",
     "output_type": "stream",
     "text": [
      "\n",
      "\n",
      "Based on the provided text, here's a comparison table between Sachin Tendulkar and Sourav Ganguly as batsmen:\n",
      "\n",
      "| **Category** | **Sachin Tendulkar** | **Sourav Ganguly** |\n",
      "| --- | --- | --- |\n",
      "| All-time highest run-scorer (ODI) | More than 18,000 runs | Not mentioned |\n",
      "| All-time highest run-scorer (Test) | More than 15,000 runs | Not mentioned |\n",
      "| Awards as Player of the match in international cricket | Most awards received | Not mentioned |\n",
      "| ICC Champions Trophy wins as captain | Part of winning team in 2002 and 2011 | Captain who led India to win in 2002 |\n",
      "\n",
      "Please note that this comparison is limited to the information provided in the text. There may be other statistics or achievements not mentioned here that could further compare their skills as batsmen.\n",
      "\n",
      "Note: The table focuses on a direct comparison of batting statistics between Sachin and Sourav, but does not attempt to establish who is \"better\".\n",
      "\n",
      "\n",
      "Execution Time 6.635613679885864 \n"
     ]
    }
   ],
   "source": [
    "#Reasoning RAG\n",
    "\n",
    "prompt=\"Who is better batsman Sachin or Sourav? Present the comparsion as a table\"\n",
    "rag_function(prompt)"
   ]
  },
  {
   "cell_type": "code",
   "execution_count": 8,
   "id": "06700e1f-4c04-4b30-b73a-62e2a9204ed4",
   "metadata": {},
   "outputs": [
    {
     "name": "stdout",
     "output_type": "stream",
     "text": [
      "\n",
      "\n",
      "**Comparing Sachin Tendulkar and Sourav Ganguly's Batting Records**\n",
      "\n",
      "* **International Runs:**\n",
      "\t+ Sachin Tendulkar: Over 18,000 runs in ODIs and over 15,000 runs in Tests\n",
      "\t+ Sourav Ganguly: No specific numbers mentioned in the context\n",
      "* **Awards and Recognition:**\n",
      "\t+ Sachin Tendulkar: Arjuna Award (1994), Khel Ratna Award (1997), Padma Shri (1998), Padma Vibhushan (2008), Bharat Ratna (2020)\n",
      "\t+ Sourav Ganguly: No specific awards mentioned in the context, but considered one of India's most successful cricket captains\n",
      "* **International Matches Won as Captain:**\n",
      "\t+ Sachin Tendulkar: Not specifically mentioned in the context\n",
      "\t+ Sourav Ganguly: Led Indian team to win the 2002 ICC Champions Trophy and reach the final of the 2003 Cricket World Cup\n",
      "\n",
      "Note that the comparison is limited by the context provided, which does not contain comprehensive information about both players.\n",
      "\n",
      "\n",
      "Execution Time 6.512469053268433 \n"
     ]
    }
   ],
   "source": [
    "#Reasoning RAG\n",
    "\n",
    "prompt=\"Who is better batsman Sachin or Sourav? Present the comparsion as heading followed by bullet points\"\n",
    "rag_function(prompt)"
   ]
  },
  {
   "cell_type": "code",
   "execution_count": 9,
   "id": "d574b9c8-ed92-4594-967d-de834c17357d",
   "metadata": {},
   "outputs": [
    {
     "name": "stdout",
     "output_type": "stream",
     "text": [
      "\n",
      "\n",
      "**Sachin Tendulkar**\n",
      "\n",
      "• All-time highest run-scorer in both ODI and Test cricket with more than 18,000 runs and 15,000 runs, respectively\n",
      "• Holds the record for receiving the most player of the match awards in international cricket\n",
      "• Regarded as one of the greatest batsmen in the history of cricket\n",
      "\n",
      "**Sourav Ganguly**\n",
      "\n",
      "• Led Indian national team to win the 2002 ICC Champions Trophy\n",
      "• Reached the final of the 2003 Cricket World Cup, the 2000 ICC Champions Trophy, and the 2004 Asia Cup as captain\n",
      "\n",
      "\n",
      "Execution Time 4.060004711151123 \n"
     ]
    }
   ],
   "source": [
    "#Reasoning RAG\n",
    "\n",
    "prompt=\"Who is better batsman Sachin or Sourav? Present the comparsion as heading(Player) followed by bullet points(achievements) \"\n",
    "rag_function(prompt)"
   ]
  },
  {
   "cell_type": "code",
   "execution_count": 10,
   "id": "63a3c268-7a70-4a60-ba24-32385d9752f0",
   "metadata": {},
   "outputs": [
    {
     "name": "stdout",
     "output_type": "stream",
     "text": [
      "\n",
      "\n",
      "Neither \n",
      "\n",
      "(The context doesn't provide a direct comparison to answer this question)\n",
      "\n",
      "\n",
      "Execution Time 1.3850510120391846 \n"
     ]
    }
   ],
   "source": [
    "#Reasoning RAG\n",
    "\n",
    "prompt=\"Who is better Captain Dhoni or Sourav? Answer in one word only\"\n",
    "rag_function(prompt)"
   ]
  },
  {
   "cell_type": "code",
   "execution_count": 11,
   "id": "ec650528-8a15-4f0d-b151-156ed9980efb",
   "metadata": {},
   "outputs": [
    {
     "name": "stdout",
     "output_type": "stream",
     "text": [
      "\n",
      "\n",
      "18000 - 17266 = 734\n",
      "\n",
      "\n",
      "Execution Time 1.2433576583862305 \n"
     ]
    }
   ],
   "source": [
    "#Analytical RAG\n",
    "\n",
    "prompt=\"Difference between total runs scored by Sachin and Dhoni? Just give the number, No explanation needed\"\n",
    "rag_function(prompt)"
   ]
  },
  {
   "cell_type": "code",
   "execution_count": 12,
   "id": "db94be78-8dc8-4baa-8612-6ab5fc8c8b6c",
   "metadata": {},
   "outputs": [
    {
     "name": "stdout",
     "output_type": "stream",
     "text": [
      "\n",
      "\n",
      "Based on the context provided, it appears that both Sachin Tendulkar and MS Dhoni have received numerous awards and accolades. However, according to the text, Dhoni holds an honorary rank of Lieutenant Colonel in the Parachute Regiment of the Indian Territorial Army, which is not mentioned as being held by Sachin Tendulkar.\n",
      "\n",
      "On the other hand, Sachin Tendulkar is described as \"the world's most prolific batsman of all time\" and has received the most player of the match awards in international cricket. He also holds records for receiving the most Player of the Match awards and has scored more than 18,000 runs in ODIs.\n",
      "\n",
      "It seems that both cricketers have impressive credentials, but I would not be able to definitively say who has \"most accolades\" as it is subjective and depends on how one weighs different types of achievements.\n",
      "\n",
      "\n",
      "Execution Time 5.667861223220825 \n"
     ]
    }
   ],
   "source": [
    "#Analytical RAG\n",
    "\n",
    "prompt=\"Who has most accolades Dhoni or sachin?\"\n",
    "rag_function(prompt)"
   ]
  },
  {
   "cell_type": "code",
   "execution_count": 13,
   "id": "3b964b9b-dbac-45c9-bbde-2089b00b472f",
   "metadata": {},
   "outputs": [
    {
     "name": "stdout",
     "output_type": "stream",
     "text": [
      "\n",
      "\n",
      "Tendulkar.\n",
      "\n",
      "\n",
      "Execution Time 1.2359111309051514 \n"
     ]
    }
   ],
   "source": [
    "#Analytical RAG\n",
    "\n",
    "prompt=\"Amongst three, who is the best player in World cups? Answer in one word only\"\n",
    "rag_function(prompt)"
   ]
  },
  {
   "cell_type": "code",
   "execution_count": 14,
   "id": "ff3d09e3-24ff-4244-a340-8541fecaeb73",
   "metadata": {},
   "outputs": [
    {
     "name": "stdout",
     "output_type": "stream",
     "text": [
      "\n",
      "\n",
      "Based on the provided context, Sachin Tendulkar and MS Dhoni are the two cricketers mentioned, along with Sourav Ganguly. The text does not provide a comprehensive comparison of their awards, but it can be observed that:\n",
      "\n",
      "* Sachin Tendulkar received the Bharat Ratna (India's highest civilian award), which is not mentioned for the other two.\n",
      "* MS Dhoni was awarded the Major Dhyan Chand Khel Ratna Award and Padma Shri and Padma Bhushan in 2009 and 2018, respectively.\n",
      "* Sourav Ganguly received the Padma Shri in 2004.\n",
      "\n",
      "It's difficult to say who has the most awards based on this information alone. However, it seems that Dhoni has a few more awards listed, but Tendulkar's Bharat Ratna is an extremely high honor that might outweigh others.\n",
      "\n",
      "\n",
      "Execution Time 5.5461366176605225 \n"
     ]
    }
   ],
   "source": [
    "#Analytical RAG\n",
    "\n",
    "prompt=\"Amongst three, who has most awards?\"\n",
    "rag_function(prompt)"
   ]
  },
  {
   "cell_type": "code",
   "execution_count": 15,
   "id": "fc3fa7d3-b3c8-4e3d-b3b2-b4efdd36c989",
   "metadata": {},
   "outputs": [
    {
     "name": "stdout",
     "output_type": "stream",
     "text": [
      "\n",
      "\n",
      "Sachin Tendulkar (5) \n",
      "\n",
      "1. Arjuna Award\n",
      "2. Khel Ratna Award\n",
      "3. Padma Shri\n",
      "4. Padma Vibhushan\n",
      "5. Bharat Ratna\n",
      "\n",
      "MS Dhoni (3)\n",
      "\n",
      "1. Major Dhyan Chand Khel Ratna Award\n",
      "2. Padma Shri\n",
      "3. Padma Bhushan\n",
      "\n",
      "\n",
      "Execution Time 2.767158269882202 \n"
     ]
    }
   ],
   "source": [
    "#Analytical RAG\n",
    "\n",
    "prompt=\"Amongst three, who has most awards? Give name of player and number only\"\n",
    "rag_function(prompt)"
   ]
  },
  {
   "cell_type": "code",
   "execution_count": 16,
   "id": "7843ddd8-190e-4371-bb20-7b2acbb184fe",
   "metadata": {},
   "outputs": [
    {
     "name": "stdout",
     "output_type": "stream",
     "text": [
      "\n",
      "\n",
      "Here is a summary of Dhoni's career in bullet points:\n",
      "\n",
      "* **Early Career:**\n",
      "\t+ Made his first-class debut for Bihar in 1999\n",
      "\t+ Made his international debut for India on December 23, 2004 (ODI against Bangladesh)\n",
      "* **Captaincy and Success:**\n",
      "\t+ Became captain of the ODI side in 2007\n",
      "\t+ Led India to victory in the 2007 ICC World Twenty20, 2011 Cricket World Cup, and 2013 ICC Champions Trophy\n",
      "\t+ Won three different limited overs ICC tournaments as a captain\n",
      "* **Domestic Success:**\n",
      "\t+ Played for Chennai Super Kings (CSK) in the Indian Premier League (IPL)\n",
      "\t+ Led CSK to the final on ten occasions and won five times (2010, 2011, 2018, 2021, 2023)\n",
      "\t+ Won two Champions League T20 titles with CSK in 2010 and 2014\n",
      "* **Awards and Honors:**\n",
      "\t+ Received Major Dhyan Chand Khel Ratna Award in 2008\n",
      "\t+ Received Padma Shri in 2009 and Padma Bhushan in 2018\n",
      "\n",
      "\n",
      "Execution Time 7.551924705505371 \n"
     ]
    }
   ],
   "source": [
    "#Summary RAG\n",
    "\n",
    "prompt=\"Give me summary of Dhoni's career, in less than 200 words? Answer in bullet points\"\n",
    "rag_function(prompt)"
   ]
  },
  {
   "cell_type": "code",
   "execution_count": 17,
   "id": "81785dd8-0f22-4653-9a6e-98c8f705e308",
   "metadata": {},
   "outputs": [
    {
     "name": "stdout",
     "output_type": "stream",
     "text": [
      "\n",
      "\n",
      "Here is an overview of Sourav Ganguly's career:\n",
      "\n",
      "1. **Captain of Indian national team**: Sourav was the captain of the Indian national cricket team and led them to several victories.\n",
      "2. **Won ICC Champions Trophy (2002)**: As captain, he led India to win the 2002 ICC Champions Trophy.\n",
      "3. **Reached Cricket World Cup final (2003)**: He also led India to reach the final of the 2003 Cricket World Cup.\n",
      "4. **Led team to semi-finals in several tournaments**: Sourav led Indian teams to semi-finals in the 2000 ICC Champions Trophy, 2004 Asia Cup, and other tournaments.\n",
      "5. **Regarded as one of India's most successful cricket captains**: He is widely regarded as one of India's most successful cricket captains.\n",
      "\n",
      "Note: The provided context does not mention much about Sourav's individual achievements or playing career apart from his captaincy.\n",
      "\n",
      "\n",
      "Execution Time 6.031343460083008 \n"
     ]
    }
   ],
   "source": [
    "#Summary RAG\n",
    "\n",
    "prompt=\"In about 150 words, give an overview of Sourav's career, answer in numbered bullet points\"\n",
    "rag_function(prompt)"
   ]
  },
  {
   "cell_type": "code",
   "execution_count": 18,
   "id": "c7169913-0b8f-477c-9adb-54ecce9359a1",
   "metadata": {},
   "outputs": [
    {
     "name": "stdout",
     "output_type": "stream",
     "text": [
      "\n",
      "\n",
      "Here is the list of total runs scored by the three players:\n",
      "\n",
      "1. Sachin Tendulkar - 34,357 runs\n",
      "2. Mahendra Singh Dhoni - No data available (only ODI career and IPL stats mentioned)\n",
      "3. Sourav Ganguly (not MS Dhoni or Sachin) - I don't know his total runs since only ODI data is provided\n",
      "\n",
      "\n",
      "Execution Time 3.061131477355957 \n"
     ]
    }
   ],
   "source": [
    "#Analytical RAG\n",
    "\n",
    "prompt=\"Enlist the total runs scored by all three players. Present the answer in ordered list in decreasing order\"\n",
    "rag_function(prompt)"
   ]
  },
  {
   "cell_type": "code",
   "execution_count": null,
   "id": "d57bd0db-c54e-4678-b732-9079f92d69be",
   "metadata": {},
   "outputs": [],
   "source": []
  }
 ],
 "metadata": {
  "kernelspec": {
   "display_name": "Python 3 (ipykernel)",
   "language": "python",
   "name": "python3"
  },
  "language_info": {
   "codemirror_mode": {
    "name": "ipython",
    "version": 3
   },
   "file_extension": ".py",
   "mimetype": "text/x-python",
   "name": "python",
   "nbconvert_exporter": "python",
   "pygments_lexer": "ipython3",
   "version": "3.12.3"
  }
 },
 "nbformat": 4,
 "nbformat_minor": 5
}
