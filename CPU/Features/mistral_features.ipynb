{
 "cells": [
  {
   "cell_type": "code",
   "execution_count": 3,
   "id": "1e797571-7962-49b2-8775-28a20645a4be",
   "metadata": {},
   "outputs": [
    {
     "ename": "ModuleNotFoundError",
     "evalue": "No module named 'langchain_core'",
     "output_type": "error",
     "traceback": [
      "\u001b[1;31m---------------------------------------------------------------------------\u001b[0m",
      "\u001b[1;31mModuleNotFoundError\u001b[0m                       Traceback (most recent call last)",
      "Cell \u001b[1;32mIn[3], line 1\u001b[0m\n\u001b[1;32m----> 1\u001b[0m \u001b[38;5;28;01mfrom\u001b[39;00m \u001b[38;5;21;01mlangchain_core\u001b[39;00m\u001b[38;5;21;01m.\u001b[39;00m\u001b[38;5;21;01mtools\u001b[39;00m \u001b[38;5;28;01mimport\u001b[39;00m tool\n\u001b[0;32m      2\u001b[0m \u001b[38;5;28;01mfrom\u001b[39;00m \u001b[38;5;21;01mlanggraph\u001b[39;00m\u001b[38;5;21;01m.\u001b[39;00m\u001b[38;5;21;01mprebuilt\u001b[39;00m \u001b[38;5;28;01mimport\u001b[39;00m ToolNode\n\u001b[0;32m      3\u001b[0m \u001b[38;5;28;01mfrom\u001b[39;00m \u001b[38;5;21;01mlangchain_openai\u001b[39;00m \u001b[38;5;28;01mimport\u001b[39;00m ChatOpenAI\n",
      "\u001b[1;31mModuleNotFoundError\u001b[0m: No module named 'langchain_core'"
     ]
    }
   ],
   "source": [
    "from langchain_core.tools import tool\n",
    "from langgraph.prebuilt import ToolNode\n",
    "from langchain_openai import ChatOpenAI\n",
    "from langchain_core.messages import HumanMessage\n",
    "from langgraph.graph import END, MessageGraph\n",
    "import os\n",
    "import sqlite3\n",
    "from datetime import date, datetime\n",
    "from typing import Optional, Dict, List, Any\n",
    "\n",
    "import pytz\n",
    "from langchain_core.runnables import RunnableConfig\n",
    "from langchain.prompts import PromptTemplate\n",
    "from langchain.chains import LLMChain\n",
    "from langchain.llms import OpenAI\n",
    "\n",
    "import pandas as pd\n",
    "import ollama\n",
    "import time\n",
    "import os\n",
    "import json\n",
    "import numpy as np\n",
    "from numpy.linalg import norm\n",
    "import time\n",
    "from langchain_core.prompts import ChatPromptTemplate\n",
    "from langchain_ollama.llms import OllamaLLM\n",
    "import time"
   ]
  },
  {
   "cell_type": "code",
   "execution_count": 1,
   "id": "1aa02e42-555d-4e5b-a16e-4b4b86a5bb4c",
   "metadata": {},
   "outputs": [
    {
     "ename": "NameError",
     "evalue": "name 'time' is not defined",
     "output_type": "error",
     "traceback": [
      "\u001b[1;31m---------------------------------------------------------------------------\u001b[0m",
      "\u001b[1;31mNameError\u001b[0m                                 Traceback (most recent call last)",
      "Cell \u001b[1;32mIn[1], line 25\u001b[0m\n\u001b[0;32m     21\u001b[0m     \u001b[38;5;28;01mreturn\u001b[39;00m \u001b[38;5;28;01mNone\u001b[39;00m\n\u001b[0;32m     24\u001b[0m query\u001b[38;5;241m=\u001b[39m\u001b[38;5;124m\"\u001b[39m\u001b[38;5;124mMe Aditya from Bangalore is working in Microsoft, I like apples and I am interested in Data Science\u001b[39m\u001b[38;5;124m\"\u001b[39m\n\u001b[1;32m---> 25\u001b[0m \u001b[43mbot_answer\u001b[49m\u001b[43m(\u001b[49m\u001b[43mquery\u001b[49m\u001b[43m)\u001b[49m\n",
      "Cell \u001b[1;32mIn[1], line 4\u001b[0m, in \u001b[0;36mbot_answer\u001b[1;34m(query)\u001b[0m\n\u001b[0;32m      1\u001b[0m \u001b[38;5;28;01mdef\u001b[39;00m \u001b[38;5;21mbot_answer\u001b[39m(query: \u001b[38;5;28mstr\u001b[39m):\n\u001b[1;32m----> 4\u001b[0m     start_time\u001b[38;5;241m=\u001b[39m\u001b[43mtime\u001b[49m\u001b[38;5;241m.\u001b[39mtime()\n\u001b[0;32m      5\u001b[0m     prompt_template \u001b[38;5;241m=\u001b[39m PromptTemplate(\n\u001b[0;32m      6\u001b[0m \n\u001b[0;32m      7\u001b[0m         input_variables\u001b[38;5;241m=\u001b[39m[\u001b[38;5;124m\"\u001b[39m\u001b[38;5;124mquery\u001b[39m\u001b[38;5;124m\"\u001b[39m],\n\u001b[1;32m   (...)\u001b[0m\n\u001b[0;32m     10\u001b[0m \u001b[38;5;124m                \u001b[39m\u001b[38;5;124m\"\"\"\u001b[39m\n\u001b[0;32m     11\u001b[0m          )\n\u001b[0;32m     14\u001b[0m     llm \u001b[38;5;241m=\u001b[39m OllamaLLM(model\u001b[38;5;241m=\u001b[39m\u001b[38;5;124m\"\u001b[39m\u001b[38;5;124mmistral:7b\u001b[39m\u001b[38;5;124m\"\u001b[39m)\n",
      "\u001b[1;31mNameError\u001b[0m: name 'time' is not defined"
     ]
    }
   ],
   "source": [
    "def bot_answer(query: str):\n",
    "\n",
    "   \n",
    "    start_time=time.time()\n",
    "    prompt_template = PromptTemplate(\n",
    "\n",
    "        input_variables=[\"query\"],\n",
    "         template=\"\"\"List all the entities in the query and also mention what they are\n",
    "          Query: {query}\n",
    "                \"\"\"\n",
    "         )\n",
    "           \n",
    "\n",
    "    llm = OllamaLLM(model=\"mistral:7b\")\n",
    "    llm_chain = LLMChain(llm=llm, prompt=prompt_template)\n",
    "    raw_response = llm_chain.run(query)\n",
    "    end_time=time.time()\n",
    "    print(raw_response)\n",
    "    print(\"\\n\")\n",
    "    print(f\"Execution Time {end_time-start_time} \")\n",
    "    return None\n",
    "\n",
    "\n",
    "query=\"Me Aditya from Bangalore is working in Microsoft, I like apples and I am interested in Data Science\"\n",
    "bot_answer(query)"
   ]
  },
  {
   "cell_type": "code",
   "execution_count": 3,
   "id": "1643c952-182f-4c1f-aff5-53b1f5383b26",
   "metadata": {},
   "outputs": [
    {
     "name": "stdout",
     "output_type": "stream",
     "text": [
      "1. Trump: A person, specifically Donald J. Trump, who was the President of the United States from 2017 to 2021.\n",
      "\n",
      "  2. Modi: A person, specifically Narendra Modi, who is the current Prime Minister of India.\n",
      "\n",
      "  3. Biden: A person, specifically Joseph R. Biden Jr., who is the current President of the United States.\n",
      "\n",
      "  4. India: A country located in South Asia.\n",
      "\n",
      "  5. Russia: A country located in Eastern Europe and northern Asia.\n",
      "\n",
      "  6. USA (United States): A country located in North America.\n",
      "\n",
      "  7. Understanding: A state or quality of mutual awareness or comprehension between people, countries, etc.\n",
      "\n",
      "  8. Problem: An issue or difficulty that needs to be addressed or solved.\n",
      "\n",
      "  9. Need: The requirement for something necessary for survival, well-being, or the satisfaction of a desire.\n",
      "\n",
      "In this query, the entities are related to international politics and leadership, discussing the relationships between specific leaders (Trump and Modi) and countries (India, Russia, and USA), as well as issues faced by these countries (problems for India, USA, and potentially Russia with Biden).\n",
      "\n",
      "\n",
      "Execution Time 303.74518847465515 \n"
     ]
    }
   ],
   "source": [
    "#Entity recognition\n",
    "query=\"Trump and Modi have a very understanding, unfortunately Biden is a big problem to India, Russia and USA. India needs Modi and US needs Trump\"\n",
    "bot_answer(query)"
   ]
  },
  {
   "cell_type": "code",
   "execution_count": 4,
   "id": "addfec8c-98af-4366-9f0f-5bcd6575a0a4",
   "metadata": {},
   "outputs": [
    {
     "name": "stdout",
     "output_type": "stream",
     "text": [
      "1. Propellers - These are mechanical devices that provide thrust to rotate an airplane or a rocket. In this context, they are referring to the parts used in the PSLV (Polar Satellite Launch Vehicle).\n",
      "\n",
      "  2. PSLV (Polar Satellite Launch Vehicle) - This is a four-staged rocket used by ISRO (Indian Space Research Organisation) for launching satellites into polar sun-synchronous orbits.\n",
      "\n",
      "  3. ISRO (Indian Space Research Organisation) - This is the space agency of India, responsible for the country's advanced space programs. It primarily operates from the Satish Dhawan Space Centre in Andhra Pradesh and works under the Department of Space of the Indian Government.\n",
      "\n",
      "\n",
      "Execution Time 280.513058423996 \n"
     ]
    }
   ],
   "source": [
    "#Entity recognition\n",
    "query=\"Propellers are important part of PSLV, ISRO relies heavily on them\"\n",
    "bot_answer(query)"
   ]
  },
  {
   "cell_type": "code",
   "execution_count": 5,
   "id": "124773cd-9d71-4f0a-b1b1-f8c312506bd1",
   "metadata": {},
   "outputs": [
    {
     "name": "stdout",
     "output_type": "stream",
     "text": [
      "1. Elon Musk - The subject of the sentence, who is being referred to as a person and the innovator in question.\n",
      "\n",
      "   2. \"the biggest innovator\" - This is an attribute or quality being assigned to Elon Musk.\n",
      "\n",
      "   3. \"I\" - The speaker or writer of the sentence, not explicitly named but implied by the use of first-person pronoun.\n",
      "\n",
      "   4. \"ever known\" - A temporal expression referring to the speaker's personal experience with innovators.\n",
      "\n",
      "   5. \"Purchasing twitter\" - An action being attributed to Elon Musk or someone else (the context doesn't specify who).\n",
      "\n",
      "   6. \"a great move\" - This is an opinion or evaluation of the action of purchasing Twitter.\n",
      "\n",
      "\n",
      "Execution Time 260.85857248306274 \n"
     ]
    }
   ],
   "source": [
    "#Entity recognition\n",
    "query=\"Elon Musk is the biggest innovator I have ever known. Purchsing twitter was a great move\"\n",
    "bot_answer(query)"
   ]
  },
  {
   "cell_type": "code",
   "execution_count": null,
   "id": "851a2e5d-19eb-4cef-87d7-de08872eeb1e",
   "metadata": {},
   "outputs": [],
   "source": []
  },
  {
   "cell_type": "code",
   "execution_count": 6,
   "id": "8407c1d4-9284-4e05-a203-fdb6c2bff1ad",
   "metadata": {},
   "outputs": [
    {
     "name": "stdout",
     "output_type": "stream",
     "text": [
      " The sentiment of the query is confident and triumphant. The strength of this sentiment is very high, approximately 95%. This level of confidence suggests a strong belief in dominance and invincibility.\n",
      "\n",
      "\n",
      "Execution Time 7.772719860076904 \n"
     ]
    }
   ],
   "source": [
    "#Sentiment analyzer\n",
    "def bot_answer(query: str):\n",
    "\n",
    "   \n",
    "    start_time=time.time()\n",
    "    prompt_template = PromptTemplate(\n",
    "\n",
    "        input_variables=[\"query\"],\n",
    "         template=\"\"\"Mention te sentiment of the query, also mention the strength of sentiment in percentage\n",
    "          Query: {query}\n",
    "                \"\"\"\n",
    "         )\n",
    "           \n",
    "\n",
    "    llm = OllamaLLM(model=\"mistral:latest\")\n",
    "    llm_chain = LLMChain(llm=llm, prompt=prompt_template)\n",
    "    raw_response = llm_chain.run(query)\n",
    "    end_time=time.time()\n",
    "    print(raw_response)\n",
    "    print(\"\\n\")\n",
    "    print(f\"Execution Time {end_time-start_time} \")\n",
    "    return None\n",
    "\n",
    "query=\"I am the king of westeros!, No one can defeat me\"\n",
    "bot_answer(query)"
   ]
  },
  {
   "cell_type": "code",
   "execution_count": 7,
   "id": "4eee9019-dfc2-4c19-9ac7-80dbed8b81d4",
   "metadata": {},
   "outputs": [
    {
     "name": "stdout",
     "output_type": "stream",
     "text": [
      " Sentiment: Negative (Strong)\n",
      "           Percentage of negativity: Approximately 100% based on the explicit negative description and comparison with past Presidents.\n",
      "\n",
      "\n",
      "Execution Time 9.039567947387695 \n"
     ]
    }
   ],
   "source": [
    "query=\"Biden is the most mentally incompetent President I have ever seen\"\n",
    "bot_answer(query)"
   ]
  },
  {
   "cell_type": "code",
   "execution_count": null,
   "id": "a8ac8c64-ccc6-4e11-85b3-046eb7288f84",
   "metadata": {},
   "outputs": [],
   "source": [
    "query=\"Vivek Ramasamy at this young age is wealthy, eloquent and has a clear vision for United states\"\n",
    "bot_answer(query)"
   ]
  },
  {
   "cell_type": "code",
   "execution_count": 9,
   "id": "5185c6d5-17ce-4445-8396-1056c629b3b4",
   "metadata": {},
   "outputs": [
    {
     "name": "stdout",
     "output_type": "stream",
     "text": [
      " Sentiment: Neutral/Cautious\n",
      "                 Strength: Medium (50%) - The phrase \"will have to tread carefully\" suggests a level of concern or caution, but the overall statement does not convey strong positive or negative sentiment. Instead, it presents a potential risk associated with privatization, which is a neutral observation.\n",
      "\n",
      "\n",
      "Execution Time 10.88443398475647 \n"
     ]
    }
   ],
   "source": [
    "query=\"Privatization of Arms industry is a double edged sword, Indian government will have to tread carefully\"\n",
    "bot_answer(query)"
   ]
  },
  {
   "cell_type": "code",
   "execution_count": 12,
   "id": "04e16d1d-bb5b-44a0-bc6c-c94a95c20233",
   "metadata": {},
   "outputs": [
    {
     "name": "stdout",
     "output_type": "stream",
     "text": [
      " The sentiment expressed in this query is Negative (anger or frustration), with a strength of approximately 85%. The individual seems to express displeasure and a desire for avoidance.\n",
      "\n",
      "\n",
      "Execution Time 5.890671491622925 \n"
     ]
    }
   ],
   "source": [
    "query=\"I dont like your face, Never come infront of me\"\n",
    "bot_answer(query)"
   ]
  },
  {
   "cell_type": "code",
   "execution_count": 11,
   "id": "b6ac2d4b-0512-4e6a-a3c0-4fb62dc17965",
   "metadata": {},
   "outputs": [
    {
     "name": "stdout",
     "output_type": "stream",
     "text": [
      " The sentiment of the query is positive (expressing strong affection). The strength of sentiment can be estimated to be around 95% positive, as it clearly expresses love and the desire for continued companionship. However, without additional context, it's difficult to quantify the exact percentage with absolute certainty.\n",
      "\n",
      "\n",
      "Execution Time 23.870234727859497 \n"
     ]
    }
   ],
   "source": [
    "query=\"I love you so much, never abandon me\"\n",
    "bot_answer(query)"
   ]
  },
  {
   "cell_type": "code",
   "execution_count": null,
   "id": "edc70f3c-0b88-4a98-b825-2aa226504a51",
   "metadata": {},
   "outputs": [],
   "source": []
  }
 ],
 "metadata": {
  "kernelspec": {
   "display_name": "Python 3 (ipykernel)",
   "language": "python",
   "name": "python3"
  },
  "language_info": {
   "codemirror_mode": {
    "name": "ipython",
    "version": 3
   },
   "file_extension": ".py",
   "mimetype": "text/x-python",
   "name": "python",
   "nbconvert_exporter": "python",
   "pygments_lexer": "ipython3",
   "version": "3.12.3"
  }
 },
 "nbformat": 4,
 "nbformat_minor": 5
}
