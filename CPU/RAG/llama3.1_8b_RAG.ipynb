{
 "cells": [
  {
   "cell_type": "code",
   "execution_count": 7,
   "id": "9e585006-f875-4ad4-a44b-d729d8aa972c",
   "metadata": {},
   "outputs": [],
   "source": [
    "import ollama\n",
    "import time\n",
    "import os\n",
    "import json\n",
    "import numpy as np\n",
    "from numpy.linalg import norm\n",
    "from openai import OpenAI\n",
    "import time"
   ]
  },
  {
   "cell_type": "code",
   "execution_count": 12,
   "id": "469e0b32-d598-403f-a05f-718ad837e964",
   "metadata": {},
   "outputs": [],
   "source": [
    "def parse_file(filename):\n",
    "    with open(filename, encoding=\"utf-8-sig\") as f:\n",
    "        paragraphs = []\n",
    "        buffer = []\n",
    "        for line in f.readlines():\n",
    "            line = line.strip()\n",
    "            if line:\n",
    "                buffer.append(line)\n",
    "            elif len(buffer):\n",
    "                paragraphs.append((\" \").join(buffer))\n",
    "                buffer = []\n",
    "        if len(buffer):\n",
    "            paragraphs.append((\" \").join(buffer))\n",
    "        return paragraphs\n",
    "\n",
    "\n",
    "def save_embeddings(filename, embeddings):\n",
    "    # create dir if it doesn't exist\n",
    "    if not os.path.exists(\"embeddings\"):\n",
    "        os.makedirs(\"embeddings\")\n",
    "    # dump embeddings to json\n",
    "    with open(f\"embeddings/{filename}.json\", \"w\") as f:\n",
    "        json.dump(embeddings, f)\n",
    "\n",
    "\n",
    "\n",
    "\n",
    "def load_embeddings(filename):\n",
    "    # check if file exists\n",
    "    if not os.path.exists(f\"embeddings/{filename}.json\"):\n",
    "        return False\n",
    "    # load embeddings from json\n",
    "    with open(f\"embeddings/{filename}.json\", \"r\") as f:\n",
    "        return json.load(f)\n",
    "\n",
    "\n",
    "\n",
    "def get_embeddings(filename, modelname, chunks):\n",
    "    # check if embeddings are already saved\n",
    "    if (embeddings := load_embeddings(filename)) is not False:\n",
    "        return embeddings\n",
    "    # get embeddings from ollama\n",
    "    embeddings = [\n",
    "        ollama.embeddings(model=modelname, prompt=chunk)[\"embedding\"]\n",
    "        for chunk in chunks\n",
    "    ]\n",
    "    # save embeddings\n",
    "    save_embeddings(filename, embeddings)\n",
    "    return embeddings\n",
    "\n",
    "def find_most_similar(needle, haystack):\n",
    "    needle_norm = norm(needle)\n",
    "\n",
    "    similarity_scores = [\n",
    "        np.dot(needle, item) / (needle_norm * norm(item)) for item in haystack\n",
    "    ]\n",
    "\n",
    "    # print(needle, haystack[0])\n",
    "    # print(np.dot(needle, haystack[0]))\n",
    "    return sorted(zip(similarity_scores, range(len(haystack))), reverse=True)\n",
    "\n",
    "\n",
    "def rag_function(prompt):\n",
    "\n",
    "    SYSTEM_PROMPT = \"\"\"You are a helpful reading assistant who answers questions\n",
    "        based on snippets of text provided in context. Answer only using the context provided,\n",
    "        being as concise as possible. If you're unsure, just say that you don't know.\n",
    "        Do not give answers that are outside the context given.\n",
    "        Answer in about 150 words for each prompt.\n",
    "        Context:\n",
    "    \"\"\"\n",
    "    start_time = time.time()\n",
    "    \n",
    "    filename = \"data.txt\"\n",
    "    paragraphs = parse_file(filename)\n",
    "\n",
    "    embeddings = get_embeddings(filename, \"nomic-embed-text\", paragraphs)\n",
    "\n",
    "\n",
    "\n",
    "    \n",
    "    prompt_embedding = ollama.embeddings(model=\"nomic-embed-text\", prompt=prompt)[\"embedding\"]\n",
    "    most_similar_chunks = find_most_similar(prompt_embedding, embeddings)[:5]\n",
    "\n",
    "\n",
    "\n",
    "    response = ollama.chat(\n",
    "    model=\"llama3.1:latest\" ,\n",
    "    messages=[\n",
    "        {\n",
    "            \"role\": \"system\",\n",
    "            \"content\": SYSTEM_PROMPT\n",
    "            + \"\\n\".join(paragraphs[item[1]] for item in most_similar_chunks),\n",
    "        },\n",
    "        {\"role\": \"user\", \"content\": prompt},\n",
    "    ],\n",
    "    )\n",
    "\n",
    "\n",
    "    \n",
    "    end_time = time.time()\n",
    "    print(\"\\n\")\n",
    "    print(response['message']['content'])\n",
    "    print(\"\\n\")\n",
    "    print(f\"Execution Time {end_time-start_time} \")\n"
   ]
  },
  {
   "cell_type": "code",
   "execution_count": 14,
   "id": "9a8a77ea-2f30-4e0a-852b-a27694209f14",
   "metadata": {},
   "outputs": [
    {
     "name": "stdout",
     "output_type": "stream",
     "text": [
      "\n",
      "\n",
      "Here are the achievements of Sachin Tendulkar mentioned in the context:\n",
      "\n",
      "* Hailed as one of the greatest batsmen in the history of cricket\n",
      "* All-time highest run-scorer in both ODI and Test cricket with more than 18,000 runs and 15,000 runs respectively\n",
      "* Holds the record for receiving the most player of the match awards in international cricket\n",
      "* Member of Parliament, Rajya Sabha by presidential nomination from 2012 to 2018\n",
      "* Received several awards from the government of India:\n",
      "\t+ Arjuna Award (1994)\n",
      "\t+ Khel Ratna Award (1997)\n",
      "\t+ Padma Shri (1998)\n",
      "\t+ Padma Vibhushan (2008)\n",
      "* First sportsperson to receive the Bharat Ratna, India's highest civilian award\n",
      "* Included in Time's annual list of the most influential people in the world in 2010\n",
      "* Awarded the Sir Garfield Sobers Trophy for cricketer of the year at the 2010 International Cricket Council (ICC) Awards\n",
      "\n",
      "He also achieved many milestones in his cricket career, including:\n",
      "\n",
      "* Playing his 200th Test match in November 2013\n",
      "* Representing India internationally for over 24 years\n",
      "* Being named \"Player of the Tournament\" at the 2003 World Cup\n",
      "* Being part of the Indian team that won the 2011 Cricket World Cup\n",
      "* Being included in an all-time Test World XI to mark the 150th anniversary of Wisden Cricketers' Almanack\n",
      "* Being inducted into the ICC Cricket Hall of Fame in 2019\n",
      "\n",
      "\n",
      "Execution Time 46.15025496482849 \n"
     ]
    }
   ],
   "source": [
    "#Strainght forward Question\n",
    "prompt=\"Enlist the achievements of Sachin Tendulkar\"\n",
    "rag_function(prompt)"
   ]
  },
  {
   "cell_type": "code",
   "execution_count": 15,
   "id": "47dc29b2-f9ff-4f02-9d70-72ad51c4ce8a",
   "metadata": {},
   "outputs": [
    {
     "name": "stdout",
     "output_type": "stream",
     "text": [
      "\n",
      "\n",
      "This question cannot be definitively answered based on the provided context. The text mentions both Sachin Tendulkar and Sourav Ganguly as being considered among the greatest cricketers of all time, but it does not directly compare their batting abilities. \n",
      "\n",
      "However, it is worth noting that Sachin Tendulkar holds several records in cricket, including being the all-time highest run-scorer in both ODI and Test cricket.\n",
      "\n",
      "\n",
      "Execution Time 56.934632778167725 \n"
     ]
    }
   ],
   "source": [
    "#Reasoning RAG\n",
    "\n",
    "prompt=\"Who is better batsman Sachin or Sourav?\"\n",
    "rag_function(prompt)"
   ]
  },
  {
   "cell_type": "code",
   "execution_count": 16,
   "id": "8b73b487-03e1-4969-abfb-2ca1d482c236",
   "metadata": {},
   "outputs": [
    {
     "name": "stdout",
     "output_type": "stream",
     "text": [
      "\n",
      "\n",
      "I don't know. The text does not compare the performances of MSDhoni and Sourav Ganguly as captains or provide a direct comparison of their leadership skills or records. However, it mentions that Dhoni has captained the most international matches and is the most successful Indian captain, having led India to victory in several ICC tournaments.\n",
      "\n",
      "\n",
      "Execution Time 53.167704820632935 \n"
     ]
    }
   ],
   "source": [
    "#Reasoning RAG\n",
    "\n",
    "prompt=\"Who is better Captain Dhoni or Sourav?\"\n",
    "rag_function(prompt)\n"
   ]
  },
  {
   "cell_type": "code",
   "execution_count": 17,
   "id": "09ca8782-31c0-4e15-a491-b90e1465e4e5",
   "metadata": {},
   "outputs": [
    {
     "name": "stdout",
     "output_type": "stream",
     "text": [
      "\n",
      "\n",
      "According to the context, Sachin Tendulkar has scored more than 18,000 runs in ODI cricket and over 15,000 runs in Test cricket.\n",
      "\n",
      "Mahendra Singh Dhoni, on the other hand, has scored 17,266 runs in international cricket.\n",
      "\n",
      "The difference between their total runs scored is: \n",
      "\n",
      "More than 18,000 (Sachin) - 17,266 (Dhoni) = approximately 734 runs\n",
      "\n",
      "\n",
      "Execution Time 57.58685517311096 \n"
     ]
    }
   ],
   "source": [
    "#Analytical RAG\n",
    "\n",
    "prompt=\"Difference between total runs scored by Sachin and Dhoni\"\n",
    "rag_function(prompt)"
   ]
  },
  {
   "cell_type": "code",
   "execution_count": 18,
   "id": "4567fd22-c2eb-45c8-9710-ac55093c4621",
   "metadata": {},
   "outputs": [
    {
     "name": "stdout",
     "output_type": "stream",
     "text": [
      "\n",
      "\n",
      "Based on the provided context, it appears that both Dhoni and Sachin have a significant number of accolades. However, Dhoni seems to have more honors and awards:\n",
      "\n",
      "* Dhoni was awarded India's highest sports honor, Major Dhyan Chand Khel Ratna Award (2008)\n",
      "* He received the Padma Shri (2009) and Padma Bhushan (2018), which are among the top civilian awards in India\n",
      "* He holds an honorary rank of Lieutenant Colonel in the Parachute Regiment of the Indian Territorial Army (2011)\n",
      "\n",
      "In contrast, Sachin is described as \"one of the greatest batsmen in the history of cricket\" and has achieved many impressive records, but there is no mention of him receiving similar high-level honors or awards.\n",
      "\n",
      "Therefore, based on this context, it seems that Dhoni may have more accolades, but it's essential to note that Sachin's achievements are also incredible, making him one of the greatest cricketers of all time.\n",
      "\n",
      "\n",
      "Execution Time 73.0515239238739 \n"
     ]
    }
   ],
   "source": [
    "#Analytical RAG\n",
    "\n",
    "prompt=\"Who has most accolades Dhoni or sachin?\"\n",
    "rag_function(prompt)"
   ]
  },
  {
   "cell_type": "code",
   "execution_count": 19,
   "id": "27bc2ef9-b2c8-4658-94e5-eea8e957f1c7",
   "metadata": {},
   "outputs": [
    {
     "name": "stdout",
     "output_type": "stream",
     "text": [
      "\n",
      "\n",
      "Based on the provided context, it can be inferred that Sachin Tendulkar and MS Dhoni have been part of several World Cup-winning teams for India. However, only one team led by Mahendra Singh Dhoni has won the Cricket World Cup (2011), while Sachin Tendulkar was a member of the Indian squad but the team did not win in his presence during six appearances.\n",
      "\n",
      "Sourav Ganguly is also mentioned as being part of the team that reached the final of the 2003 Cricket World Cup under his captaincy, however, India lost the match.\n",
      "\n",
      "\n",
      "Execution Time 66.65720200538635 \n"
     ]
    }
   ],
   "source": [
    "#Analytical RAG\n",
    "\n",
    "prompt=\"Amongst three, who is the best player in World cups?\"\n",
    "rag_function(prompt)"
   ]
  },
  {
   "cell_type": "code",
   "execution_count": 20,
   "id": "7b15b18d-e7ca-4ca1-b5a5-1e4765fd9670",
   "metadata": {},
   "outputs": [
    {
     "name": "stdout",
     "output_type": "stream",
     "text": [
      "\n",
      "\n",
      "Based on the context provided, Sachin Tendulkar and Dhoni are not mentioned together for award comparisons. However, Ganguly is not in this category either.\n",
      "\n",
      "But considering Dhoni's achievements, he received the Major Dhyan Chand Khel Ratna Award (2008), Padma Shri (2009), and Padma Bhushan (2018). \n",
      "\n",
      "Tendulkar, on the other hand, has received several awards from the government of India: the Arjuna Award (1994), the Khel Ratna Award (1997), the Padma Shri (1998), and the Padma Vibhushan (2008), along with the Bharat Ratna (2013).\n",
      "\n",
      "It's not clear how many or what awards each person has received. However, based on the information provided, Tendulkar seems to have received more individual awards from the government of India.\n",
      "\n",
      "\n",
      "Execution Time 64.5874879360199 \n"
     ]
    }
   ],
   "source": [
    "#Analytical RAG\n",
    "\n",
    "prompt=\"Amongst three, who has most awards?\"\n",
    "rag_function(prompt)"
   ]
  },
  {
   "cell_type": "code",
   "execution_count": 21,
   "id": "59c7a338-b9d4-4511-a7d1-d428697ba4a5",
   "metadata": {},
   "outputs": [
    {
     "name": "stdout",
     "output_type": "stream",
     "text": [
      "\n",
      "\n",
      "Mahendra Singh Dhoni is an Indian professional cricketer who played as a right-handed batter and wicket-keeper. He made his first-class debut for Bihar in 1999 and debuted for the Indian cricket team on December 23, 2004. Dhoni became the captain of the ODI side in 2007 and all formats by 2008, leading India to several victories including the 2011 Cricket World Cup and the Asia Cup.\n",
      "\n",
      "Dhoni played for Chennai Super Kings in the IPL, leading them to the final on ten occasions and winning it five times. He also led CSK to two Champions League T20 titles. Dhoni retired from test cricket in 2014 but continued playing in limited overs cricket till 2019. He holds several records, including being the first wicketkeeper to score over 5,000 runs in the IPL.\n",
      "\n",
      "Throughout his career, Dhoni received numerous awards, including the Major Dhyan Chand Khel Ratna Award and Padma Shri, India's highest sport honors.\n",
      "\n",
      "\n",
      "Execution Time 74.0443868637085 \n"
     ]
    }
   ],
   "source": [
    "#Summary RAG\n",
    "\n",
    "prompt=\"Give me summary of Dhoni's career, in less than 200 words?\"\n",
    "rag_function(prompt)"
   ]
  },
  {
   "cell_type": "code",
   "execution_count": 22,
   "id": "541864f2-e082-4a43-b5fe-52a48ae29655",
   "metadata": {},
   "outputs": [
    {
     "name": "stdout",
     "output_type": "stream",
     "text": [
      "\n",
      "\n",
      "Sourav Ganguly is a former Indian cricketer and current commentator. He is widely regarded as one of India's most successful cricket captains. As captain, he led the Indian national team to win the 2002 ICC Champions Trophy and reach the final of the 2003 Cricket World Cup, among other notable achievements. His leadership skills earned him the nickname \"Dada\" (meaning \"elder brother\" in Bengali) and \"Maharaja of Indian Cricket.\" He was known for his aggressive batting style and ability to motivate his team. After retiring from international cricket, Ganguly went on to become a successful commentator and has been involved in various cricket-related endeavors. Despite being retired from the game, he remains a beloved figure in Indian cricketing circles, admired for his passion and dedication to the sport.\n",
      "\n",
      "\n",
      "Execution Time 73.98977732658386 \n"
     ]
    }
   ],
   "source": [
    "#Summary RAG\n",
    "\n",
    "prompt=\"In about 150 words, give an overview of Sourav's career\"\n",
    "rag_function(prompt)"
   ]
  },
  {
   "cell_type": "code",
   "execution_count": 23,
   "id": "8ea7a889-8646-40f4-b2fb-be7f75dd2c58",
   "metadata": {},
   "outputs": [
    {
     "name": "stdout",
     "output_type": "stream",
     "text": [
      "\n",
      "\n",
      "Based on the context provided, here are the total runs scored by each player:\n",
      "\n",
      "1. Sachin Tendulkar: He is the all-time highest run-scorer in both ODI and Test cricket with more than 18,000 runs in ODI and 15,000 runs in Test cricket.\n",
      "2. Ganguly: He scored 11,363 runs in his ODI career which stands at ninth position in the world for most runs scored in ODI matches.\n",
      "3. Dhoni: He has scored 17,266 runs in international cricket including 10,000 plus runs at an average of more than 50 in ODIs.\n",
      "\n",
      "Let me add them up for you:\n",
      "\n",
      "18,000 (Sachin's ODI runs) + 11,363 (Ganguly's ODI runs) + 17,266 (Dhoni's international runs) = 46,629\n",
      "\n",
      "Note: The context doesn't provide the exact split of Dhoni's runs between ODIs and Tests, so I've used his total international runs to calculate the combined total.\n",
      "\n",
      "\n",
      "Execution Time 72.41770458221436 \n"
     ]
    }
   ],
   "source": [
    "#Analytical RAG\n",
    "\n",
    "prompt=\"Enlist the total runs scored by all three players\"\n",
    "rag_function(prompt)"
   ]
  },
  {
   "cell_type": "code",
   "execution_count": null,
   "id": "42d1e487-70d8-4c96-898f-1d2fb73df79d",
   "metadata": {},
   "outputs": [],
   "source": []
  }
 ],
 "metadata": {
  "kernelspec": {
   "display_name": "Python 3 (ipykernel)",
   "language": "python",
   "name": "python3"
  },
  "language_info": {
   "codemirror_mode": {
    "name": "ipython",
    "version": 3
   },
   "file_extension": ".py",
   "mimetype": "text/x-python",
   "name": "python",
   "nbconvert_exporter": "python",
   "pygments_lexer": "ipython3",
   "version": "3.12.3"
  }
 },
 "nbformat": 4,
 "nbformat_minor": 5
}
