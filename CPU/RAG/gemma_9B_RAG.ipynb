{
 "cells": [
  {
   "cell_type": "code",
   "execution_count": 1,
   "id": "2b8ec2a5-cb5f-4014-825f-6e921481cd7a",
   "metadata": {},
   "outputs": [],
   "source": [
    "import ollama\n",
    "import time\n",
    "import os\n",
    "import json\n",
    "import numpy as np\n",
    "from numpy.linalg import norm\n",
    "from openai import OpenAI\n",
    "import time"
   ]
  },
  {
   "cell_type": "code",
   "execution_count": 5,
   "id": "549d528f-f772-486e-9b54-eead68c6080d",
   "metadata": {},
   "outputs": [],
   "source": [
    "def parse_file(filename):\n",
    "    with open(filename, encoding=\"utf-8-sig\") as f:\n",
    "        paragraphs = []\n",
    "        buffer = []\n",
    "        for line in f.readlines():\n",
    "            line = line.strip()\n",
    "            if line:\n",
    "                buffer.append(line)\n",
    "            elif len(buffer):\n",
    "                paragraphs.append((\" \").join(buffer))\n",
    "                buffer = []\n",
    "        if len(buffer):\n",
    "            paragraphs.append((\" \").join(buffer))\n",
    "        return paragraphs\n",
    "\n",
    "\n",
    "def save_embeddings(filename, embeddings):\n",
    "    # create dir if it doesn't exist\n",
    "    if not os.path.exists(\"embeddings\"):\n",
    "        os.makedirs(\"embeddings\")\n",
    "    # dump embeddings to json\n",
    "    with open(f\"embeddings/{filename}.json\", \"w\") as f:\n",
    "        json.dump(embeddings, f)\n",
    "\n",
    "\n",
    "\n",
    "\n",
    "def load_embeddings(filename):\n",
    "    # check if file exists\n",
    "    if not os.path.exists(f\"embeddings/{filename}.json\"):\n",
    "        return False\n",
    "    # load embeddings from json\n",
    "    with open(f\"embeddings/{filename}.json\", \"r\") as f:\n",
    "        return json.load(f)\n",
    "\n",
    "\n",
    "\n",
    "def get_embeddings(filename, modelname, chunks):\n",
    "    # check if embeddings are already saved\n",
    "    if (embeddings := load_embeddings(filename)) is not False:\n",
    "        return embeddings\n",
    "    # get embeddings from ollama\n",
    "    embeddings = [\n",
    "        ollama.embeddings(model=modelname, prompt=chunk)[\"embedding\"]\n",
    "        for chunk in chunks\n",
    "    ]\n",
    "    # save embeddings\n",
    "    save_embeddings(filename, embeddings)\n",
    "    return embeddings\n",
    "\n",
    "def find_most_similar(needle, haystack):\n",
    "    needle_norm = norm(needle)\n",
    "\n",
    "    similarity_scores = [\n",
    "        np.dot(needle, item) / (needle_norm * norm(item)) for item in haystack\n",
    "    ]\n",
    "\n",
    "    # print(needle, haystack[0])\n",
    "    # print(np.dot(needle, haystack[0]))\n",
    "    return sorted(zip(similarity_scores, range(len(haystack))), reverse=True)\n",
    "\n",
    "\n",
    "def rag_function(prompt):\n",
    "\n",
    "    SYSTEM_PROMPT = \"\"\"You are a helpful reading assistant who answers questions\n",
    "        based on snippets of text provided in context. Answer only using the context provided,\n",
    "        being as concise as possible. If you're unsure, just say that you don't know.\n",
    "        Do not give answers that are outside the context given.\n",
    "        Answer in about 150 words for each prompt.\n",
    "        Context:\n",
    "    \"\"\"\n",
    "    start_time = time.time()\n",
    "    \n",
    "    filename = \"data.txt\"\n",
    "    paragraphs = parse_file(filename)\n",
    "\n",
    "    embeddings = get_embeddings(filename, \"nomic-embed-text\", paragraphs)\n",
    "\n",
    "\n",
    "\n",
    "    \n",
    "    prompt_embedding = ollama.embeddings(model=\"nomic-embed-text\", prompt=prompt)[\"embedding\"]\n",
    "    most_similar_chunks = find_most_similar(prompt_embedding, embeddings)[:5]\n",
    "\n",
    "\n",
    "    \n",
    "    response = ollama.chat(\n",
    "    model=\"gemma2:9b\" ,\n",
    "    messages=[\n",
    "        {\n",
    "            \"role\": \"system\",\n",
    "            \"content\": SYSTEM_PROMPT\n",
    "            + \"\\n\".join(paragraphs[item[1]] for item in most_similar_chunks),\n",
    "        },\n",
    "        {\"role\": \"user\", \"content\": prompt},\n",
    "    ],\n",
    "    )\n",
    "\n",
    "\n",
    "    \n",
    "    end_time = time.time()\n",
    "    print(\"\\n\")\n",
    "    print(response['message']['content'])\n",
    "    print(\"\\n\")\n",
    "    print(f\"Execution Time {end_time-start_time} \")\n"
   ]
  },
  {
   "cell_type": "code",
   "execution_count": 4,
   "id": "597ec72e-c2f7-4035-a316-03791ba6b8a7",
   "metadata": {},
   "outputs": [
    {
     "name": "stdout",
     "output_type": "stream",
     "text": [
      "\n",
      "\n",
      "Sachin Tendulkar is widely regarded as one of the greatest batsmen in cricket history. He is the all-time highest run-scorer in both ODI and Test cricket, with over 18,000 runs in ODIs and more than 15,000 runs in Tests.\n",
      "\n",
      "He holds the record for receiving the most player of the match awards in international cricket. Tendulkar was part of the Indian team that won the 2011 Cricket World Cup, his first win in six World Cup appearances. He was named \"Player of the Tournament\" at the 2003 World Cup.\n",
      "\n",
      "Tendulkar also received numerous awards from the Indian government, including the Arjuna Award (1994), the Khel Ratna Award (1997), the Padma Shri (1998), and the Padma Vibhushan (2008). He was the first sportsperson to receive the Bharat Ratna, India's highest civilian award. In 2010, Time magazine included him in its annual list of the most influential people in the world.\n",
      "\n",
      "In 2019, he was inducted into the ICC Cricket Hall of Fame.  \n",
      "\n",
      "\n",
      "\n",
      "Execution Time 361.8600928783417 \n"
     ]
    }
   ],
   "source": [
    "#Strainght forward Question, with 27B model\n",
    "prompt=\"Enlist the achievements of Sachin Tendulkar\"\n",
    "rag_function(prompt)"
   ]
  },
  {
   "cell_type": "code",
   "execution_count": 6,
   "id": "1709317d-fd53-43a5-a3e4-06d885e5486c",
   "metadata": {},
   "outputs": [
    {
     "name": "stdout",
     "output_type": "stream",
     "text": [
      "\n",
      "\n",
      "Sachin Tendulkar is widely regarded as one of the greatest batsmen in cricket history.  \n",
      "\n",
      "He holds the record for the all-time highest run-scorer in both ODI and Test cricket, with over 18,000 runs and 15,000 runs respectively. He also has the most player of the match awards in international cricket. \n",
      "\n",
      "Tendulkar has received numerous awards, including the Arjuna Award, Khel Ratna Award, Padma Shri, Padma Vibhushan, and the Bharat Ratna, India's highest civilian award.  He was also included in Time's annual list of the most influential people in the world in 2010 and awarded the Sir Garfield Sobers Trophy for cricketer of the year at the 2010 ICC Awards.\n",
      "\n",
      "Tendulkar played for Mumbai domestically and represented India internationally for over 24 years. He was part of the Indian team that won the 2011 Cricket World Cup and was named \"Player of the Tournament\" at the 2003 World Cup.  He retired from all forms of cricket in November 2013 after playing his 200th Test match.   \n",
      "\n",
      "\n",
      "\n",
      "\n",
      "\n",
      "Execution Time 125.43673539161682 \n"
     ]
    }
   ],
   "source": [
    "#Strainght forward Question, with 27B model\n",
    "prompt=\"Enlist the achievements of Sachin Tendulkar\"\n",
    "rag_function(prompt)"
   ]
  },
  {
   "cell_type": "code",
   "execution_count": 7,
   "id": "3784cbb3-7f2e-423b-9331-1e3e40e2711a",
   "metadata": {},
   "outputs": [
    {
     "name": "stdout",
     "output_type": "stream",
     "text": [
      "\n",
      "\n",
      "The text states that Sachin Tendulkar is widely regarded as one of the greatest batsmen in the history of cricket and is considered the world's most prolific batsman of all time.  It also says that he holds the record for the most runs in both ODI and Test cricket. \n",
      "\n",
      "\n",
      "The passage doesn't directly compare Sourav Ganguly to Sachin Tendulkar in terms of batting ability. \n",
      "\n",
      "\n",
      "\n",
      "Execution Time 79.15769934654236 \n"
     ]
    }
   ],
   "source": [
    "#Reasoning RAG\n",
    "\n",
    "prompt=\"Who is better batsman Sachin or Sourav?\"\n",
    "rag_function(prompt)"
   ]
  },
  {
   "cell_type": "code",
   "execution_count": 8,
   "id": "207f3d05-3358-49eb-a0c3-7ea7903eeac0",
   "metadata": {},
   "outputs": [
    {
     "name": "stdout",
     "output_type": "stream",
     "text": [
      "\n",
      "\n",
      "The text provides information about both MS Dhoni and Sourav Ganguly's achievements as captains but does not offer a comparison to determine who is \"better\".  \n",
      "\n",
      "Both are recognized as highly successful Indian cricket captains. \n",
      "* Dhoni led India to victory in the 2007 ICC World Twenty20, the 2011 Cricket World Cup, and the 2013 ICC Champions Trophy. He also captained Chennai Super Kings to five IPL victories.\n",
      "\n",
      "* Ganguly led India to win the 2002 ICC Champions Trophy and reached the final of the 2003 Cricket World Cup, among other achievements.\n",
      "\n",
      "\n",
      "The passage focuses on their individual accomplishments rather than a comparative analysis.  \n",
      "\n",
      "\n",
      "\n",
      "Execution Time 90.57676148414612 \n"
     ]
    }
   ],
   "source": [
    "#Reasoning RAG\n",
    "\n",
    "prompt=\"Who is better Captain Dhoni or Sourav?\"\n",
    "rag_function(prompt)"
   ]
  },
  {
   "cell_type": "code",
   "execution_count": 9,
   "id": "931db09e-3e1c-4264-8351-d886572edfa2",
   "metadata": {},
   "outputs": [
    {
     "name": "stdout",
     "output_type": "stream",
     "text": [
      "\n",
      "\n",
      "The provided text states that Sachin Tendulkar has scored more than 18,000 runs in ODI and 15,000 runs in Test cricket, while MS Dhoni has scored over 17,266 runs in international cricket. \n",
      "\n",
      "\n",
      "However, the text doesn't give a precise breakdown of how many runs each player has scored in ODIs and Tests. Therefore, it is impossible to determine the exact difference between their total runs based on the context provided. \n",
      "\n",
      "\n",
      "\n",
      "Execution Time 83.1014564037323 \n"
     ]
    }
   ],
   "source": [
    "#Analytical RAG\n",
    "\n",
    "prompt=\"Difference between total runs scored by Sachin and Dhoni\"\n",
    "rag_function(prompt)"
   ]
  },
  {
   "cell_type": "code",
   "execution_count": 10,
   "id": "914b19f5-1659-4c33-b8ce-ea3d3f12879f",
   "metadata": {},
   "outputs": [
    {
     "name": "stdout",
     "output_type": "stream",
     "text": [
      "\n",
      "\n",
      "Based on the provided text, it's difficult to say definitively who has more accolades, Dhoni or Sachin Tendulkar.  \n",
      "\n",
      "The passage details Dhoni's achievements including various awards like the Khel Ratna Award, Padma Shri, and Padma Bhushan, as well as his successful captaincy record in international cricket and the IPL. \n",
      "\n",
      "However, the text focuses primarily on Dhoni's accomplishments. While it mentions Sachin Tendulkar's status as one of the greatest batsmen and his numerous records, it doesn't provide specific details about the awards he has received.  \n",
      "\n",
      "\n",
      "\n",
      "Execution Time 85.93707776069641 \n"
     ]
    }
   ],
   "source": [
    "#Analytical RAG\n",
    "\n",
    "prompt=\"Who has most accolades Dhoni or sachin?\"\n",
    "rag_function(prompt)"
   ]
  },
  {
   "cell_type": "code",
   "execution_count": 11,
   "id": "aa0d0c14-7741-4175-b7d7-865fa681fd06",
   "metadata": {},
   "outputs": [
    {
     "name": "stdout",
     "output_type": "stream",
     "text": [
      "\n",
      "\n",
      "Based on the text provided,  the context states that Sachin Tendulkar was part of the Indian team that won the 2011 Cricket World Cup and had previously been named \"Player of the Tournament\" at the 2003 World Cup.  \n",
      "\n",
      "While it mentions Dhoni's success as captain in various ICC tournaments, it doesn't specify any individual World Cup achievements for him. Sourav Ganguly's accomplishments as captain are also detailed, but not focused on World Cup performance.\n",
      "\n",
      "\n",
      "Therefore, based on the information given, Sachin Tendulkar appears to have the strongest World Cup record out of the three mentioned. \n",
      "\n",
      "\n",
      "\n",
      "Execution Time 128.3356900215149 \n"
     ]
    }
   ],
   "source": [
    "#Analytical RAG\n",
    "\n",
    "prompt=\"Amongst three, who is the best player in World cups?\"\n",
    "rag_function(prompt)"
   ]
  },
  {
   "cell_type": "code",
   "execution_count": 12,
   "id": "bc6e5d81-b858-4650-b985-ff8976354875",
   "metadata": {},
   "outputs": [
    {
     "name": "stdout",
     "output_type": "stream",
     "text": [
      "\n",
      "\n",
      "Based on the context provided, Sachin Tendulkar has received the most awards.  \n",
      "\n",
      "Here's why:\n",
      "\n",
      "* **Tendulkar:** Received the Arjuna Award, Khel Ratna Award, Padma Shri, Padma Vibhushan, and the Bharat Ratna (India's highest civilian award). He was also named one of Time's most influential people and received the Sir Garfield Sobers Trophy.\n",
      "* **Dhoni:** Received the Major Dhyan Chand Khel Ratna Award, Padma Shri, and Padma Bhushan. He also holds an honorary rank in the Indian Territorial Army.\n",
      "* **Ganguly:** Received the Padma Shri award and was elected president of the Board of Control for Cricket in India. \n",
      "\n",
      "\n",
      "Let me know if you have any other questions about these cricketers! \n",
      "\n",
      "\n",
      "\n",
      "Execution Time 84.32193922996521 \n"
     ]
    }
   ],
   "source": [
    "#Analytical RAG\n",
    "\n",
    "prompt=\"Amongst three, who has most awards?\"\n",
    "rag_function(prompt)"
   ]
  },
  {
   "cell_type": "code",
   "execution_count": 13,
   "id": "1c2af23f-1036-4a21-a2d1-7ac05e11dcc9",
   "metadata": {},
   "outputs": [
    {
     "name": "stdout",
     "output_type": "stream",
     "text": [
      "\n",
      "\n",
      "Mahendra Singh Dhoni is a highly successful Indian cricketer known for his skills as a right-handed batter and wicketkeeper. He captained the Indian national cricket team across all formats from 2007 to 2017, leading them to victory in the 2007 ICC World Twenty20, the 2011 Cricket World Cup, and the 2013 ICC Champions Trophy.  \n",
      "\n",
      "He is recognized as one of the most prolific wicketkeeper-batsmen and captains in cricket history. Dhoni led the Chennai Super Kings (CSK) to ten IPL finals, winning five titles. He also holds the distinction of being the first wicketkeeper to score over five thousand runs in the IPL. \n",
      "\n",
      "\n",
      "Dhoni retired from international cricket in 2019 but continues to play for CSK in the IPL. \n",
      "\n",
      "\n",
      "\n",
      "Execution Time 98.09301280975342 \n"
     ]
    }
   ],
   "source": [
    "#Summary RAG\n",
    "\n",
    "prompt=\"Give me summary of Dhoni's career, in less than 200 words?\"\n",
    "rag_function(prompt)"
   ]
  },
  {
   "cell_type": "code",
   "execution_count": 14,
   "id": "8d31e67a-350c-4adc-8b0e-486d03aea6fa",
   "metadata": {},
   "outputs": [
    {
     "name": "stdout",
     "output_type": "stream",
     "text": [
      "\n",
      "\n",
      "Sourav Ganguly, nicknamed \"Dada,\" is a former Indian cricketer and current commentator widely recognized as one of India's most successful captains.  \n",
      "\n",
      "He led the Indian national team to victory in the 2002 ICC Champions Trophy and guided them to the finals of several other tournaments, including the 2003 Cricket World Cup, the 2000 ICC Champions Trophy, and the 2004 Asia Cup. Known for his aggressive batting style and leadership qualities, Ganguly earned the title \"Maharaja of Indian Cricket.\"  \n",
      "\n",
      "\n",
      "\n",
      "Execution Time 96.34282732009888 \n"
     ]
    }
   ],
   "source": [
    "#Summary RAG\n",
    "\n",
    "prompt=\"In about 150 words, give an overview of Sourav's career\"\n",
    "rag_function(prompt)"
   ]
  },
  {
   "cell_type": "code",
   "execution_count": null,
   "id": "8cb4e96e-fe99-4746-a345-df92dd4c1bf2",
   "metadata": {},
   "outputs": [],
   "source": [
    "#Analytical RAG\n",
    "\n",
    "prompt=\"Enlist the total runs scored by all three players\"\n",
    "rag_function(prompt)"
   ]
  },
  {
   "cell_type": "code",
   "execution_count": null,
   "id": "535c261f-9c82-4c45-b391-9b0d4f1860f4",
   "metadata": {},
   "outputs": [],
   "source": []
  }
 ],
 "metadata": {
  "kernelspec": {
   "display_name": "Python 3 (ipykernel)",
   "language": "python",
   "name": "python3"
  },
  "language_info": {
   "codemirror_mode": {
    "name": "ipython",
    "version": 3
   },
   "file_extension": ".py",
   "mimetype": "text/x-python",
   "name": "python",
   "nbconvert_exporter": "python",
   "pygments_lexer": "ipython3",
   "version": "3.12.3"
  }
 },
 "nbformat": 4,
 "nbformat_minor": 5
}
