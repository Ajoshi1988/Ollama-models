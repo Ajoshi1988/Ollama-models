{
 "cells": [
  {
   "cell_type": "code",
   "execution_count": 1,
   "id": "eeef529f-0bec-489d-b300-b55c730af755",
   "metadata": {},
   "outputs": [],
   "source": [
    "import ollama\n",
    "import time\n",
    "import os\n",
    "import json\n",
    "import numpy as np\n",
    "from numpy.linalg import norm\n",
    "from openai import OpenAI\n",
    "import time"
   ]
  },
  {
   "cell_type": "code",
   "execution_count": 2,
   "id": "41fbfc36-3155-4401-b93c-da0aeca94b43",
   "metadata": {},
   "outputs": [],
   "source": [
    "def parse_file(filename):\n",
    "    with open(filename, encoding=\"utf-8-sig\") as f:\n",
    "        paragraphs = []\n",
    "        buffer = []\n",
    "        for line in f.readlines():\n",
    "            line = line.strip()\n",
    "            if line:\n",
    "                buffer.append(line)\n",
    "            elif len(buffer):\n",
    "                paragraphs.append((\" \").join(buffer))\n",
    "                buffer = []\n",
    "        if len(buffer):\n",
    "            paragraphs.append((\" \").join(buffer))\n",
    "        return paragraphs\n",
    "\n",
    "\n",
    "def save_embeddings(filename, embeddings):\n",
    "    # create dir if it doesn't exist\n",
    "    if not os.path.exists(\"embeddings\"):\n",
    "        os.makedirs(\"embeddings\")\n",
    "    # dump embeddings to json\n",
    "    with open(f\"embeddings/{filename}.json\", \"w\") as f:\n",
    "        json.dump(embeddings, f)\n",
    "\n",
    "\n",
    "\n",
    "\n",
    "def load_embeddings(filename):\n",
    "    # check if file exists\n",
    "    if not os.path.exists(f\"embeddings/{filename}.json\"):\n",
    "        return False\n",
    "    # load embeddings from json\n",
    "    with open(f\"embeddings/{filename}.json\", \"r\") as f:\n",
    "        return json.load(f)\n",
    "\n",
    "\n",
    "\n",
    "def get_embeddings(filename, modelname, chunks):\n",
    "    # check if embeddings are already saved\n",
    "    if (embeddings := load_embeddings(filename)) is not False:\n",
    "        return embeddings\n",
    "    # get embeddings from ollama\n",
    "    embeddings = [\n",
    "        ollama.embeddings(model=modelname, prompt=chunk)[\"embedding\"]\n",
    "        for chunk in chunks\n",
    "    ]\n",
    "    # save embeddings\n",
    "    save_embeddings(filename, embeddings)\n",
    "    return embeddings\n",
    "\n",
    "def find_most_similar(needle, haystack):\n",
    "    needle_norm = norm(needle)\n",
    "\n",
    "    similarity_scores = [\n",
    "        np.dot(needle, item) / (needle_norm * norm(item)) for item in haystack\n",
    "    ]\n",
    "\n",
    "    # print(needle, haystack[0])\n",
    "    # print(np.dot(needle, haystack[0]))\n",
    "    return sorted(zip(similarity_scores, range(len(haystack))), reverse=True)\n",
    "\n",
    "\n",
    "def rag_function(prompt):\n",
    "\n",
    "    SYSTEM_PROMPT = \"\"\"You are a helpful reading assistant who answers questions\n",
    "        based on snippets of text provided in context. Answer only using the context provided,\n",
    "        being as concise as possible. If you're unsure, just say that you don't know.\n",
    "        Do not give answers that are outside the context given.\n",
    "        Answer in about 150 words for each prompt.\n",
    "        Context:\n",
    "    \"\"\"\n",
    "    start_time = time.time()\n",
    "    \n",
    "    filename = \"data.txt\"\n",
    "    paragraphs = parse_file(filename)\n",
    "\n",
    "    embeddings = get_embeddings(filename, \"nomic-embed-text\", paragraphs)\n",
    "\n",
    "\n",
    "\n",
    "    \n",
    "    prompt_embedding = ollama.embeddings(model=\"nomic-embed-text\", prompt=prompt)[\"embedding\"]\n",
    "    most_similar_chunks = find_most_similar(prompt_embedding, embeddings)[:5]\n",
    "\n",
    "\n",
    "\n",
    "    response = ollama.chat(\n",
    "    model=\"mistral:latest\" ,\n",
    "    messages=[\n",
    "        {\n",
    "            \"role\": \"system\",\n",
    "            \"content\": SYSTEM_PROMPT\n",
    "            + \"\\n\".join(paragraphs[item[1]] for item in most_similar_chunks),\n",
    "        },\n",
    "        {\"role\": \"user\", \"content\": prompt},\n",
    "    ],\n",
    "    )\n",
    "\n",
    "\n",
    "    \n",
    "    end_time = time.time()\n",
    "    print(\"\\n\")\n",
    "    print(response['message']['content'])\n",
    "    print(\"\\n\")\n",
    "    print(f\"Execution Time {end_time-start_time} \")\n"
   ]
  },
  {
   "cell_type": "code",
   "execution_count": 3,
   "id": "0a59e611-4e7a-4fd1-8184-087d83dfedaf",
   "metadata": {},
   "outputs": [
    {
     "name": "stdout",
     "output_type": "stream",
     "text": [
      "\n",
      "\n",
      "1. Regarded as one of the greatest batsmen in cricket history.\n",
      "2. Holds the record for the most runs in both ODI (over 18,000) and Test (over 15,000) cricket.\n",
      "3. Received numerous awards, including the Arjuna Award (1994), Khel Ratna Award (1997), Padma Shri (1998), and Padma Vibhushan (2008).\n",
      "4. Elected as a Member of Parliament, Rajya Sabha from 2012 to 2018.\n",
      "5. First sportsperson to receive the Bharat Ratna, India's highest civilian award.\n",
      "6. Included in Time magazine's annual list of the most influential people in the world (2010).\n",
      "7. Awarded the Sir Garfield Sobers Trophy for cricketer of the year at the 2010 International Cricket Council (ICC) Awards.\n",
      "8. Played his first Test match at age 16 and represented India internationally for over 24 years.\n",
      "9. Named \"Player of the Tournament\" at the 2003 World Cup.\n",
      "10. Part of the team that won the 2011 Cricket World Cup, his first win in six World Cup appearances for India.\n",
      "11. Included in an all-time Test World XI to mark the 150th anniversary of Wisden Cricketers' Almanack (2013).\n",
      "12. Inducted into the ICC Cricket Hall of Fame (2019).\n",
      "\n",
      "\n",
      "Execution Time 119.00569200515747 \n"
     ]
    }
   ],
   "source": [
    "#Strainght forward Question, \n",
    "prompt=\"Enlist the achievements of Sachin Tendulkar\"\n",
    "rag_function(prompt)"
   ]
  },
  {
   "cell_type": "code",
   "execution_count": 4,
   "id": "7f827cd2-2149-45a5-87c1-7f34cbe3ae6e",
   "metadata": {},
   "outputs": [
    {
     "name": "stdout",
     "output_type": "stream",
     "text": [
      "\n",
      "\n",
      " The text does not directly compare Sachin Tendulkar and Sourav Ganguly as batsmen, but it mentions that Tendulkar is hailed as the world's most prolific batsman and holds the all-time highest run-scorer in both ODI and Test cricket. No such accolades are mentioned for Ganguly regarding his batting skills. However, Ganguly was a successful captain and led India to several victories. Therefore, it is not possible to definitively say who is a better batsman based on the provided context.\n",
      "\n",
      "\n",
      "Execution Time 70.53378677368164 \n"
     ]
    }
   ],
   "source": [
    "#Reasoning RAG\n",
    "\n",
    "prompt=\"Who is better batsman Sachin or Sourav?\"\n",
    "rag_function(prompt)"
   ]
  },
  {
   "cell_type": "code",
   "execution_count": 5,
   "id": "8f2c1c27-079b-4d19-9879-4c8d38c16c17",
   "metadata": {},
   "outputs": [
    {
     "name": "stdout",
     "output_type": "stream",
     "text": [
      "\n",
      "\n",
      " The text provided does not make a direct comparison between the captaining skills of Mahendra Singh Dhoni and Sourav Ganguly, as it focuses on their achievements instead. However, both are considered successful Indian cricket captains, with Dhoni leading India to victory in three different limited overs ICC tournaments (2007 ICC World Twenty20, 2011 Cricket World Cup, and 2013 ICC Champions Trophy) and Ganguly winning the 2002 ICC Champions Trophy and reaching the final of the 2003 Cricket World Cup.\n",
      "\n",
      "\n",
      "Execution Time 70.4772744178772 \n"
     ]
    }
   ],
   "source": [
    "#Reasoning RAG\n",
    "\n",
    "prompt=\"Who is better Captain Dhoni or Sourav?\"\n",
    "rag_function(prompt)"
   ]
  },
  {
   "cell_type": "code",
   "execution_count": 6,
   "id": "1fb083ac-b40c-4648-805c-7b6ed9096bf4",
   "metadata": {},
   "outputs": [
    {
     "name": "stdout",
     "output_type": "stream",
     "text": [
      "\n",
      "\n",
      " The total runs scored by Sachin Tendulkar are more than those scored by M.S. Dhoni. While Sachin has scored over 18,000 runs in Test cricket and more than 18,000 runs in One Day Internationals (ODIs), putting his combined total at approximately 36,000 runs, Dhoni's international career total stands at 17,266 runs.\n",
      "\n",
      "\n",
      "Execution Time 66.23426604270935 \n"
     ]
    }
   ],
   "source": [
    "#Analytical RAG\n",
    "\n",
    "prompt=\"Difference between total runs scored by Sachin and Dhoni\"\n",
    "rag_function(prompt)"
   ]
  },
  {
   "cell_type": "code",
   "execution_count": 7,
   "id": "5be9027d-6149-4956-98cb-d9dd04f917b9",
   "metadata": {},
   "outputs": [
    {
     "name": "stdout",
     "output_type": "stream",
     "text": [
      "\n",
      "\n",
      " Based on the provided context, it is not possible to definitively determine which of MSDhoni and Sachin Tendulkar has more accolades as the information only covers some of the awards received by MSDhoni. However, it is known that Tendulkar holds several records in cricket, such as being the all-time highest run-scorer in both ODI and Test cricket and receiving the most player of the match awards in international cricket. MSDhoni, on the other hand, has been awarded India's highest sport honor, the Major Dhyan Chand Khel Ratna Award, as well as several civilian honors from the Indian government and is one of the most successful captains in international cricket, leading India to three different limited overs ICC tournaments. To accurately compare their accolades, a comprehensive comparison considering all awards and records held by both cricketers would be needed.\n",
      "\n",
      "\n",
      "Execution Time 78.81063556671143 \n"
     ]
    }
   ],
   "source": [
    "#Analytical RAG\n",
    "\n",
    "prompt=\"Who has most accolades Dhoni or sachin?\"\n",
    "rag_function(prompt)"
   ]
  },
  {
   "cell_type": "code",
   "execution_count": 8,
   "id": "2b52b97b-6e80-4d44-899c-c01986aeb182",
   "metadata": {},
   "outputs": [
    {
     "name": "stdout",
     "output_type": "stream",
     "text": [
      "\n",
      "\n",
      " The provided context does not explicitly state a winner for the best player in World Cups. However, it mentions that Sachin Tendulkar was part of the Indian team that won the 2011 Cricket World Cup and was named \"Player of the Tournament\" at the 2003 World Cup. Mahendra Singh Dhoni led India to victory in the 2011 Cricket World Cup, making him a winner of the tournament as a captain, but not as a player. Sourav Ganguly was part of the Indian team that reached the final of the 2003 Cricket World Cup, but did not win it. Therefore, based on the information given, it appears that both Tendulkar and Dhoni have had significant contributions to India's success in World Cups, but no definitive answer can be provided about who is the best player in World cups from this context.\n",
      "\n",
      "\n",
      "Execution Time 86.46004176139832 \n"
     ]
    }
   ],
   "source": [
    "#Analytical RAG\n",
    "\n",
    "prompt=\"Amongst three, who is the best player in World cups?\"\n",
    "rag_function(prompt)"
   ]
  },
  {
   "cell_type": "code",
   "execution_count": 9,
   "id": "693fe5f3-41eb-4142-af14-cdd2096afab6",
   "metadata": {},
   "outputs": [
    {
     "name": "stdout",
     "output_type": "stream",
     "text": [
      "\n",
      "\n",
      " Among the three cricketers provided in the context (Sachin Tendulkar, Mahendra Singh Dhoni, and Sourav Ganguly), Sachin Tendulkar has received the most awards. He was honored with the Arjuna Award, Khel Ratna Award, Padma Shri, Padma Vibhushan, and Bharat Ratna (India's highest civilian award) from the government of India. Additionally, he was included in Time magazine's list of the most influential people in the world in 2010 and won the Sir Garfield Sobers Trophy for cricketer of the year at the 2010 International Cricket Council (ICC) Awards.\n",
      "\n",
      "\n",
      "Execution Time 66.34929537773132 \n"
     ]
    }
   ],
   "source": [
    "#Analytical RAG\n",
    "\n",
    "prompt=\"Amongst three, who has most awards?\"\n",
    "rag_function(prompt)"
   ]
  },
  {
   "cell_type": "code",
   "execution_count": 10,
   "id": "6bc3e51e-5514-415b-81a1-d884d3f7adbc",
   "metadata": {},
   "outputs": [
    {
     "name": "stdout",
     "output_type": "stream",
     "text": [
      "\n",
      "\n",
      " Mahendra Singh Dhoni is an esteemed Indian cricketer who played as a right-handed batsman and wicket-keeper. He represented the Indian cricket team from 2004 to 2019 and captained the side in limited overs formats from 2007 to 2017, making him the most successful Indian captain. Dhoni led India to victory in significant tournaments including the 2007 ICC World Twenty20, the 2011 Cricket World Cup, and the 2013 ICC Champions Trophy. He is also known for his contributions in the Indian Premier League (IPL), where he played for Chennai Super Kings, leading them to five IPL finals and five victories. Dhoni has scored over 17,000 runs in international cricket, including more than 10,000 runs in ODIs with an average of over 50. He was awarded India's highest sports honor, the Major Dhyan Chand Khel Ratna Award, in 2008 and has also received the Padma Shri (2009) and Padma Bhushan (2018). Sachin Tendulkar is another iconic Indian cricketer who is considered one of the greatest batsmen in history.\n",
      "\n",
      "\n",
      "Execution Time 92.66733741760254 \n"
     ]
    }
   ],
   "source": [
    "#Summary RAG\n",
    "\n",
    "prompt=\"Give me summary of Dhoni's career, in less than 200 words?\"\n",
    "rag_function(prompt)"
   ]
  },
  {
   "cell_type": "code",
   "execution_count": 11,
   "id": "f2cbb0b4-f5c5-472f-a8fd-4365d092e6e5",
   "metadata": {},
   "outputs": [
    {
     "name": "stdout",
     "output_type": "stream",
     "text": [
      "\n",
      "\n",
      " Sourav Ganguly is a former Indian cricketer and current commentator, popularly known as the \"Maharaja of Indian Cricket.\" He served as captain of the Indian national cricket team, leading them to victories in the 2002 ICC Champions Trophy and the finals of the 2003 Cricket World Cup, the 2000 ICC Champions Trophy, and the 2004 Asia Cup. Despite not being among the highest run-scorers, his leadership is considered one of India's most successful. His career spanned over two decades, representing Mumbai domestically and India internationally.\n",
      "\n",
      "\n",
      "Execution Time 191.7901120185852 \n"
     ]
    }
   ],
   "source": [
    "#Summary RAG\n",
    "\n",
    "prompt=\"In about 150 words, give an overview of Sourav's career\"\n",
    "rag_function(prompt)"
   ]
  },
  {
   "cell_type": "code",
   "execution_count": null,
   "id": "68fb595f-fc3b-4d69-8178-37efbf070c00",
   "metadata": {},
   "outputs": [],
   "source": [
    "#Analytical RAG\n",
    "\n",
    "prompt=\"Enlist the total runs scored by all three players\"\n",
    "rag_function(prompt)"
   ]
  },
  {
   "cell_type": "code",
   "execution_count": null,
   "id": "eede0a38-1422-4f65-abf9-27867b633c47",
   "metadata": {},
   "outputs": [],
   "source": []
  }
 ],
 "metadata": {
  "kernelspec": {
   "display_name": "Python 3 (ipykernel)",
   "language": "python",
   "name": "python3"
  },
  "language_info": {
   "codemirror_mode": {
    "name": "ipython",
    "version": 3
   },
   "file_extension": ".py",
   "mimetype": "text/x-python",
   "name": "python",
   "nbconvert_exporter": "python",
   "pygments_lexer": "ipython3",
   "version": "3.12.3"
  }
 },
 "nbformat": 4,
 "nbformat_minor": 5
}
